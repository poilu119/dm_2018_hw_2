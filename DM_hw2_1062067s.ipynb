{
 "cells": [
  {
   "cell_type": "markdown",
   "metadata": {},
   "source": [
    "# student ID: 1062067s  \n",
    "# name: 呂柏邑  \n",
    "# team name: what happened?  \n",
    "snapshot of your Private Leaderboard score"
   ]
  },
  {
   "cell_type": "markdown",
   "metadata": {},
   "source": [
    "![Image of Yaktocat](./2018-12-05.1.38.07.png)"
   ]
  },
  {
   "cell_type": "markdown",
   "metadata": {},
   "source": [
    "---"
   ]
  },
  {
   "cell_type": "markdown",
   "metadata": {},
   "source": [
    "# Outline\n",
    "\n",
    "## Discussion\n",
    "+ Result Comparision\n",
    "+ Did you encounter overfitting or underfitting problem? How did you against it\n",
    "+ Any special model and process method you tried during your experiments\n",
    "\n",
    "## Pre-processing\n",
    "+ read data\n",
    "+ enumerate data\n",
    "+ clean the data\n",
    "\n",
    "## Feature Engineering\n",
    "+ bag of word\n",
    "+ w2v\n",
    "+ glove (pre-trained w2v)\n",
    "+ w2v & TFIDF\n",
    "+ word embedding & w2v\n",
    "+ word embedding & glove\n",
    "\n",
    "## Modeling\n",
    "+ Decision Tree\n",
    "+ Multinomial Naive Bayes\n",
    "+ Deep learning\n",
    "    + Dense\n",
    "    + LSTM"
   ]
  },
  {
   "cell_type": "markdown",
   "metadata": {},
   "source": [
    "---"
   ]
  },
  {
   "cell_type": "markdown",
   "metadata": {},
   "source": [
    "# Discussion"
   ]
  },
  {
   "cell_type": "markdown",
   "metadata": {},
   "source": [
    "## Result Comparision\n",
    "word embedding & w2v + LSTM >  \n",
    "word embedding & glove + LSTM >  \n",
    "Bag of Word >  \n",
    "glove = w2v = w2v & TFIDF\n",
    "\n",
    "The best try is using word embedding & w2v + LSTM\n",
    "+ embedding dimension is 100\n",
    "\n",
    "## Did you encounter overfitting or underfitting problem? How did you against it\n",
    "Generally not underfitting, if underfitting, simply make more epoch / make model more complex or modify input.  \n",
    "it means: \n",
    "1. your input is not helping the model to distinguish between differernt emotions.\n",
    "2. your model is too simple<br><br>\n",
    "\n",
    "The challenging problem is overfitting, if I didn't add dropout layer, it usually goes into overfitting. (I use validation to see if overfitting occurs.)  \n",
    "the solution to this is:\n",
    "1. add dropout layer to prevent the model trains too well for training data set; but it turns out, the convergence is growing slower\n",
    "2. change learing rate, decreasing learning rate helps finding more reliable result\n",
    "3. utilize regulization (but not guaranty to have better result, it provide resistance to overfitting)\n",
    "\n",
    "\n",
    "## Any special model and process method you tried during your experiments\n",
    "+ optimizer do have a strong impact on speeding up the training process\n",
    "   + I found that Adamax is better than adam\n",
    "+ loss function is correlated with the last layer\n",
    "   + if using binary_crossentropy, the last layer should be sigmoid (instead of softmax)\n",
    "      + and the accuracy: binary_crossentropy >> categorical_crossentropy, but get similar result for same epoch / batch size\n",
    "   + if using categorical_crossentropy, the last layer should be softmax\n",
    "+ the fewer the batch size is, the better result it will gain. But the convergence decreases.\n",
    "+ the emotion is imbalanced as shown below, but if useing undersampling or oversampling, it is not going to gain better result, which is a bit strange\n",
    "+ the data itself contains duplicate, but not exceed 4000, so I didn't do anything to it; and it should be removed (but not the main reason for the low accuracy)"
   ]
  },
  {
   "cell_type": "code",
   "execution_count": 56,
   "metadata": {},
   "outputs": [
    {
     "data": {
      "image/png": "[encoded data removed]",
      "text/plain": [
       "<Figure size 864x288 with 1 Axes>"
      ]
     },
     "metadata": {},
     "output_type": "display_data"
    }
   ],
   "source": [
    "import seaborn as sns\n",
    "import matplotlib.pyplot as plt\n",
    "%matplotlib inline\n",
    "plt.style.use('ggplot')\n",
    "\n",
    "cnt_pro = train_df['emotion'].value_counts()\n",
    "plt.figure(figsize=(12,4))\n",
    "sns.barplot(cnt_pro.index, cnt_pro.values, alpha=0.8)\n",
    "plt.ylabel('Number of Occurrences', fontsize=12)\n",
    "plt.xlabel('Product', fontsize=12)\n",
    "plt.xticks(rotation=90)\n",
    "plt.show()"
   ]
  },
  {
   "cell_type": "markdown",
   "metadata": {},
   "source": [
    "## Some noise example, which is not eliminate at the model\n",
    "(could done better if tries to cinsider it)\n",
    "i.e. try to see if some sentence pattern occurs in most of emotion, then it might not be useful, should taken out"
   ]
  },
  {
   "cell_type": "code",
   "execution_count": 54,
   "metadata": {},
   "outputs": [
    {
     "data": {
      "text/html": [
       "<div>\n",
       "<style scoped>\n",
       "    .dataframe tbody tr th:only-of-type {\n",
       "        vertical-align: middle;\n",
       "    }\n",
       "\n",
       "    .dataframe tbody tr th {\n",
       "        vertical-align: top;\n",
       "    }\n",
       "\n",
       "    .dataframe thead th {\n",
       "        text-align: right;\n",
       "    }\n",
       "</style>\n",
       "<table border=\"1\" class=\"dataframe\">\n",
       "  <thead>\n",
       "    <tr style=\"text-align: right;\">\n",
       "      <th></th>\n",
       "      <th>hashtags</th>\n",
       "      <th>text</th>\n",
       "      <th>tweet_id</th>\n",
       "      <th>emotion</th>\n",
       "      <th>identification</th>\n",
       "      <th>replaceLabel</th>\n",
       "      <th>replaceLabel_tokenized</th>\n",
       "      <th>clean_text</th>\n",
       "      <th>tokenized</th>\n",
       "    </tr>\n",
       "  </thead>\n",
       "  <tbody>\n",
       "    <tr>\n",
       "      <th>15763</th>\n",
       "      <td>[submission, onceakytyalwaysakyty, application...</td>\n",
       "      <td>❤Call me on WhatsApp: +1(867)322-3045 for sext...</td>\n",
       "      <td>0x1df0d2</td>\n",
       "      <td>trust</td>\n",
       "      <td>train</td>\n",
       "      <td>❤Call me on WhatsApp: +1(867)322-3045 for sext...</td>\n",
       "      <td>[❤, Call, me, on, WhatsApp, :, +1(867)322-3045...</td>\n",
       "      <td>❤ call whatsapp +1(867)322-3045 sext nudes ❤ s...</td>\n",
       "      <td>[❤, call, whatsapp, +1(867)322-3045, sext, nud...</td>\n",
       "    </tr>\n",
       "    <tr>\n",
       "      <th>86252</th>\n",
       "      <td>[ugly, karbi, lonely, auntiekim]</td>\n",
       "      <td>❤❤Call me on WhatsApp: +18673223045 for sext a...</td>\n",
       "      <td>0x31c559</td>\n",
       "      <td>sadness</td>\n",
       "      <td>train</td>\n",
       "      <td>❤❤Call me on WhatsApp: +18673223045 for sext a...</td>\n",
       "      <td>[❤, ❤, Call, me, on, WhatsApp, :, +18673223045...</td>\n",
       "      <td>❤ ❤ call whatsapp +18673223045 sext nudes ❤ ❤ ...</td>\n",
       "      <td>[❤, ❤, call, whatsapp, +18673223045, sext, nud...</td>\n",
       "    </tr>\n",
       "    <tr>\n",
       "      <th>135691</th>\n",
       "      <td>[lust, spoiled, bigbreasts, session]</td>\n",
       "      <td>❤❤Call me on WhatsApp for sext and nudes: +186...</td>\n",
       "      <td>0x32acac</td>\n",
       "      <td>joy</td>\n",
       "      <td>train</td>\n",
       "      <td>❤❤Call me on WhatsApp for sext and nudes: +186...</td>\n",
       "      <td>[❤, ❤, Call, me, on, WhatsApp, for, sext, and,...</td>\n",
       "      <td>❤ ❤ call whatsapp sext nudes +18673223045 ❤ lu...</td>\n",
       "      <td>[❤, ❤, call, whatsapp, sext, nudes, +186732230...</td>\n",
       "    </tr>\n",
       "    <tr>\n",
       "      <th>157219</th>\n",
       "      <td>[trust, cumdump, house]</td>\n",
       "      <td>❤Call me on WhatsApp for sext and nudes: +1867...</td>\n",
       "      <td>0x2afbbd</td>\n",
       "      <td>trust</td>\n",
       "      <td>train</td>\n",
       "      <td>❤Call me on WhatsApp for sext and nudes: +1867...</td>\n",
       "      <td>[❤, Call, me, on, WhatsApp, for, sext, and, nu...</td>\n",
       "      <td>❤ call whatsapp sext nudes +18673223045 ❤ trus...</td>\n",
       "      <td>[❤, call, whatsapp, sext, nudes, +18673223045,...</td>\n",
       "    </tr>\n",
       "    <tr>\n",
       "      <th>300925</th>\n",
       "      <td>[issarae, webcamsex, happy, evamarie]</td>\n",
       "      <td>❤❤Call me on WhatsApp for sext and nudes: +186...</td>\n",
       "      <td>0x233add</td>\n",
       "      <td>joy</td>\n",
       "      <td>train</td>\n",
       "      <td>❤❤Call me on WhatsApp for sext and nudes: +186...</td>\n",
       "      <td>[❤, ❤, Call, me, on, WhatsApp, for, sext, and,...</td>\n",
       "      <td>❤ ❤ call whatsapp sext nudes +18673223045 ❤ ❤ ...</td>\n",
       "      <td>[❤, ❤, call, whatsapp, sext, nudes, +186732230...</td>\n",
       "    </tr>\n",
       "    <tr>\n",
       "      <th>329645</th>\n",
       "      <td>[blackstud, thankful, thejunkyarddancecrew]</td>\n",
       "      <td>❤❤Call me on WhatsApp for sext and nudes: +1(8...</td>\n",
       "      <td>0x2ad025</td>\n",
       "      <td>trust</td>\n",
       "      <td>train</td>\n",
       "      <td>❤❤Call me on WhatsApp for sext and nudes: +1(8...</td>\n",
       "      <td>[❤, ❤, Call, me, on, WhatsApp, for, sext, and,...</td>\n",
       "      <td>❤ ❤ call whatsapp sext nudes +1(867)322-3045 ❤...</td>\n",
       "      <td>[❤, ❤, call, whatsapp, sext, nudes, +1(867)322...</td>\n",
       "    </tr>\n",
       "    <tr>\n",
       "      <th>395901</th>\n",
       "      <td>[purr, سناب, pride, kong]</td>\n",
       "      <td>❤Call me on WhatsApp: +1(867)322-3045 for sext...</td>\n",
       "      <td>0x36dc28</td>\n",
       "      <td>trust</td>\n",
       "      <td>train</td>\n",
       "      <td>❤Call me on WhatsApp: +1(867)322-3045 for sext...</td>\n",
       "      <td>[❤, Call, me, on, WhatsApp, :, +1(867)322-3045...</td>\n",
       "      <td>❤ call whatsapp +1(867)322-3045 sext nudes ❤ ❤...</td>\n",
       "      <td>[❤, call, whatsapp, +1(867)322-3045, sext, nud...</td>\n",
       "    </tr>\n",
       "    <tr>\n",
       "      <th>432009</th>\n",
       "      <td>[disco, brandmarketing, trust, سكسيه]</td>\n",
       "      <td>❤Call me on WhatsApp for sext and nudes: +1(86...</td>\n",
       "      <td>0x313cdd</td>\n",
       "      <td>trust</td>\n",
       "      <td>train</td>\n",
       "      <td>❤Call me on WhatsApp for sext and nudes: +1(86...</td>\n",
       "      <td>[❤, Call, me, on, WhatsApp, for, sext, and, nu...</td>\n",
       "      <td>❤ call whatsapp sext nudes +1(867)322-3045 ❤ d...</td>\n",
       "      <td>[❤, call, whatsapp, sext, nudes, +1(867)322-30...</td>\n",
       "    </tr>\n",
       "    <tr>\n",
       "      <th>500132</th>\n",
       "      <td>[submission, hinge, lilsquirt, pure]</td>\n",
       "      <td>❤❤Call me on WhatsApp for sext and nudes: +1(8...</td>\n",
       "      <td>0x1d45ff</td>\n",
       "      <td>trust</td>\n",
       "      <td>train</td>\n",
       "      <td>❤❤Call me on WhatsApp for sext and nudes: +1(8...</td>\n",
       "      <td>[❤, ❤, Call, me, on, WhatsApp, for, sext, and,...</td>\n",
       "      <td>❤ ❤ call whatsapp sext nudes +1(867)322-3045 ❤...</td>\n",
       "      <td>[❤, ❤, call, whatsapp, sext, nudes, +1(867)322...</td>\n",
       "    </tr>\n",
       "    <tr>\n",
       "      <th>623618</th>\n",
       "      <td>[submission, suckmeoff, ثلاثينيه]</td>\n",
       "      <td>❤Call me on WhatsApp for sext and nudes: +1(86...</td>\n",
       "      <td>0x2951fa</td>\n",
       "      <td>trust</td>\n",
       "      <td>train</td>\n",
       "      <td>❤Call me on WhatsApp for sext and nudes: +1(86...</td>\n",
       "      <td>[❤, Call, me, on, WhatsApp, for, sext, and, nu...</td>\n",
       "      <td>❤ call whatsapp sext nudes +1(867)322-3045 ❤ s...</td>\n",
       "      <td>[❤, call, whatsapp, sext, nudes, +1(867)322-30...</td>\n",
       "    </tr>\n",
       "    <tr>\n",
       "      <th>634495</th>\n",
       "      <td>[puresafebeneficial, iguess, wtf, fams]</td>\n",
       "      <td>❤❤Call me on WhatsApp: +18673223045 for sext a...</td>\n",
       "      <td>0x2b6173</td>\n",
       "      <td>disgust</td>\n",
       "      <td>train</td>\n",
       "      <td>❤❤Call me on WhatsApp: +18673223045 for sext a...</td>\n",
       "      <td>[❤, ❤, Call, me, on, WhatsApp, :, +18673223045...</td>\n",
       "      <td>❤ ❤ call whatsapp +18673223045 sext nudes ❤ ❤ ...</td>\n",
       "      <td>[❤, ❤, call, whatsapp, +18673223045, sext, nud...</td>\n",
       "    </tr>\n",
       "    <tr>\n",
       "      <th>701010</th>\n",
       "      <td>[cmo, قحبه, えろ]</td>\n",
       "      <td>❤❤Call me on WhatsApp: +1(867)322-3045 for sex...</td>\n",
       "      <td>0x379c4d</td>\n",
       "      <td>fear</td>\n",
       "      <td>train</td>\n",
       "      <td>❤❤Call me on WhatsApp: +1(867)322-3045 for sex...</td>\n",
       "      <td>[❤, ❤, Call, me, on, WhatsApp, :, +1(867)322-3...</td>\n",
       "      <td>❤ ❤ call whatsapp +1(867)322-3045 sext nudes ❤...</td>\n",
       "      <td>[❤, ❤, call, whatsapp, +1(867)322-3045, sext, ...</td>\n",
       "    </tr>\n",
       "    <tr>\n",
       "      <th>961839</th>\n",
       "      <td>[guskoky, titties, happy, lelani]</td>\n",
       "      <td>❤❤Call me on WhatsApp for sext and nudes: +1(8...</td>\n",
       "      <td>0x2dbef8</td>\n",
       "      <td>joy</td>\n",
       "      <td>train</td>\n",
       "      <td>❤❤Call me on WhatsApp for sext and nudes: +1(8...</td>\n",
       "      <td>[❤, ❤, Call, me, on, WhatsApp, for, sext, and,...</td>\n",
       "      <td>❤ ❤ call whatsapp sext nudes +1(867)322-3045 ❤...</td>\n",
       "      <td>[❤, ❤, call, whatsapp, sext, nudes, +1(867)322...</td>\n",
       "    </tr>\n",
       "    <tr>\n",
       "      <th>978643</th>\n",
       "      <td>[love, me, camera]</td>\n",
       "      <td>❤❤Call me on WhatsApp: +1(867)322-3045 for sex...</td>\n",
       "      <td>0x2e1533</td>\n",
       "      <td>joy</td>\n",
       "      <td>train</td>\n",
       "      <td>❤❤Call me on WhatsApp: +1(867)322-3045 for sex...</td>\n",
       "      <td>[❤, ❤, Call, me, on, WhatsApp, :, +1(867)322-3...</td>\n",
       "      <td>❤ ❤ call whatsapp +1(867)322-3045 sext nudes ❤...</td>\n",
       "      <td>[❤, ❤, call, whatsapp, +1(867)322-3045, sext, ...</td>\n",
       "    </tr>\n",
       "    <tr>\n",
       "      <th>1076949</th>\n",
       "      <td>[cock, wtf, amateursexytube, asstwerk]</td>\n",
       "      <td>❤Call me on WhatsApp: +1(867)322-3045 for sext...</td>\n",
       "      <td>0x217252</td>\n",
       "      <td>disgust</td>\n",
       "      <td>train</td>\n",
       "      <td>❤Call me on WhatsApp: +1(867)322-3045 for sext...</td>\n",
       "      <td>[❤, Call, me, on, WhatsApp, :, +1(867)322-3045...</td>\n",
       "      <td>❤ call whatsapp +1(867)322-3045 sext nudes ❤ ❤...</td>\n",
       "      <td>[❤, call, whatsapp, +1(867)322-3045, sext, nud...</td>\n",
       "    </tr>\n",
       "    <tr>\n",
       "      <th>1364686</th>\n",
       "      <td>[crazy, goodmorning, ssbbw]</td>\n",
       "      <td>❤❤Call me on WhatsApp for sext and nudes: +1(8...</td>\n",
       "      <td>0x31ec2c</td>\n",
       "      <td>surprise</td>\n",
       "      <td>train</td>\n",
       "      <td>❤❤Call me on WhatsApp for sext and nudes: +1(8...</td>\n",
       "      <td>[❤, ❤, Call, me, on, WhatsApp, for, sext, and,...</td>\n",
       "      <td>❤ ❤ call whatsapp sext nudes +1(867)322-3045 ❤...</td>\n",
       "      <td>[❤, ❤, call, whatsapp, sext, nudes, +1(867)322...</td>\n",
       "    </tr>\n",
       "  </tbody>\n",
       "</table>\n",
       "</div>"
      ],
      "text/plain": [
       "                                                  hashtags  \\\n",
       "15763    [submission, onceakytyalwaysakyty, application...   \n",
       "86252                     [ugly, karbi, lonely, auntiekim]   \n",
       "135691                [lust, spoiled, bigbreasts, session]   \n",
       "157219                             [trust, cumdump, house]   \n",
       "300925               [issarae, webcamsex, happy, evamarie]   \n",
       "329645         [blackstud, thankful, thejunkyarddancecrew]   \n",
       "395901                           [purr, سناب, pride, kong]   \n",
       "432009               [disco, brandmarketing, trust, سكسيه]   \n",
       "500132                [submission, hinge, lilsquirt, pure]   \n",
       "623618                   [submission, suckmeoff, ثلاثينيه]   \n",
       "634495             [puresafebeneficial, iguess, wtf, fams]   \n",
       "701010                                     [cmo, قحبه, えろ]   \n",
       "961839                   [guskoky, titties, happy, lelani]   \n",
       "978643                                  [love, me, camera]   \n",
       "1076949             [cock, wtf, amateursexytube, asstwerk]   \n",
       "1364686                        [crazy, goodmorning, ssbbw]   \n",
       "\n",
       "                                                      text  tweet_id  \\\n",
       "15763    ❤Call me on WhatsApp: +1(867)322-3045 for sext...  0x1df0d2   \n",
       "86252    ❤❤Call me on WhatsApp: +18673223045 for sext a...  0x31c559   \n",
       "135691   ❤❤Call me on WhatsApp for sext and nudes: +186...  0x32acac   \n",
       "157219   ❤Call me on WhatsApp for sext and nudes: +1867...  0x2afbbd   \n",
       "300925   ❤❤Call me on WhatsApp for sext and nudes: +186...  0x233add   \n",
       "329645   ❤❤Call me on WhatsApp for sext and nudes: +1(8...  0x2ad025   \n",
       "395901   ❤Call me on WhatsApp: +1(867)322-3045 for sext...  0x36dc28   \n",
       "432009   ❤Call me on WhatsApp for sext and nudes: +1(86...  0x313cdd   \n",
       "500132   ❤❤Call me on WhatsApp for sext and nudes: +1(8...  0x1d45ff   \n",
       "623618   ❤Call me on WhatsApp for sext and nudes: +1(86...  0x2951fa   \n",
       "634495   ❤❤Call me on WhatsApp: +18673223045 for sext a...  0x2b6173   \n",
       "701010   ❤❤Call me on WhatsApp: +1(867)322-3045 for sex...  0x379c4d   \n",
       "961839   ❤❤Call me on WhatsApp for sext and nudes: +1(8...  0x2dbef8   \n",
       "978643   ❤❤Call me on WhatsApp: +1(867)322-3045 for sex...  0x2e1533   \n",
       "1076949  ❤Call me on WhatsApp: +1(867)322-3045 for sext...  0x217252   \n",
       "1364686  ❤❤Call me on WhatsApp for sext and nudes: +1(8...  0x31ec2c   \n",
       "\n",
       "          emotion identification  \\\n",
       "15763       trust          train   \n",
       "86252     sadness          train   \n",
       "135691        joy          train   \n",
       "157219      trust          train   \n",
       "300925        joy          train   \n",
       "329645      trust          train   \n",
       "395901      trust          train   \n",
       "432009      trust          train   \n",
       "500132      trust          train   \n",
       "623618      trust          train   \n",
       "634495    disgust          train   \n",
       "701010       fear          train   \n",
       "961839        joy          train   \n",
       "978643        joy          train   \n",
       "1076949   disgust          train   \n",
       "1364686  surprise          train   \n",
       "\n",
       "                                              replaceLabel  \\\n",
       "15763    ❤Call me on WhatsApp: +1(867)322-3045 for sext...   \n",
       "86252    ❤❤Call me on WhatsApp: +18673223045 for sext a...   \n",
       "135691   ❤❤Call me on WhatsApp for sext and nudes: +186...   \n",
       "157219   ❤Call me on WhatsApp for sext and nudes: +1867...   \n",
       "300925   ❤❤Call me on WhatsApp for sext and nudes: +186...   \n",
       "329645   ❤❤Call me on WhatsApp for sext and nudes: +1(8...   \n",
       "395901   ❤Call me on WhatsApp: +1(867)322-3045 for sext...   \n",
       "432009   ❤Call me on WhatsApp for sext and nudes: +1(86...   \n",
       "500132   ❤❤Call me on WhatsApp for sext and nudes: +1(8...   \n",
       "623618   ❤Call me on WhatsApp for sext and nudes: +1(86...   \n",
       "634495   ❤❤Call me on WhatsApp: +18673223045 for sext a...   \n",
       "701010   ❤❤Call me on WhatsApp: +1(867)322-3045 for sex...   \n",
       "961839   ❤❤Call me on WhatsApp for sext and nudes: +1(8...   \n",
       "978643   ❤❤Call me on WhatsApp: +1(867)322-3045 for sex...   \n",
       "1076949  ❤Call me on WhatsApp: +1(867)322-3045 for sext...   \n",
       "1364686  ❤❤Call me on WhatsApp for sext and nudes: +1(8...   \n",
       "\n",
       "                                    replaceLabel_tokenized  \\\n",
       "15763    [❤, Call, me, on, WhatsApp, :, +1(867)322-3045...   \n",
       "86252    [❤, ❤, Call, me, on, WhatsApp, :, +18673223045...   \n",
       "135691   [❤, ❤, Call, me, on, WhatsApp, for, sext, and,...   \n",
       "157219   [❤, Call, me, on, WhatsApp, for, sext, and, nu...   \n",
       "300925   [❤, ❤, Call, me, on, WhatsApp, for, sext, and,...   \n",
       "329645   [❤, ❤, Call, me, on, WhatsApp, for, sext, and,...   \n",
       "395901   [❤, Call, me, on, WhatsApp, :, +1(867)322-3045...   \n",
       "432009   [❤, Call, me, on, WhatsApp, for, sext, and, nu...   \n",
       "500132   [❤, ❤, Call, me, on, WhatsApp, for, sext, and,...   \n",
       "623618   [❤, Call, me, on, WhatsApp, for, sext, and, nu...   \n",
       "634495   [❤, ❤, Call, me, on, WhatsApp, :, +18673223045...   \n",
       "701010   [❤, ❤, Call, me, on, WhatsApp, :, +1(867)322-3...   \n",
       "961839   [❤, ❤, Call, me, on, WhatsApp, for, sext, and,...   \n",
       "978643   [❤, ❤, Call, me, on, WhatsApp, :, +1(867)322-3...   \n",
       "1076949  [❤, Call, me, on, WhatsApp, :, +1(867)322-3045...   \n",
       "1364686  [❤, ❤, Call, me, on, WhatsApp, for, sext, and,...   \n",
       "\n",
       "                                                clean_text  \\\n",
       "15763    ❤ call whatsapp +1(867)322-3045 sext nudes ❤ s...   \n",
       "86252    ❤ ❤ call whatsapp +18673223045 sext nudes ❤ ❤ ...   \n",
       "135691   ❤ ❤ call whatsapp sext nudes +18673223045 ❤ lu...   \n",
       "157219   ❤ call whatsapp sext nudes +18673223045 ❤ trus...   \n",
       "300925   ❤ ❤ call whatsapp sext nudes +18673223045 ❤ ❤ ...   \n",
       "329645   ❤ ❤ call whatsapp sext nudes +1(867)322-3045 ❤...   \n",
       "395901   ❤ call whatsapp +1(867)322-3045 sext nudes ❤ ❤...   \n",
       "432009   ❤ call whatsapp sext nudes +1(867)322-3045 ❤ d...   \n",
       "500132   ❤ ❤ call whatsapp sext nudes +1(867)322-3045 ❤...   \n",
       "623618   ❤ call whatsapp sext nudes +1(867)322-3045 ❤ s...   \n",
       "634495   ❤ ❤ call whatsapp +18673223045 sext nudes ❤ ❤ ...   \n",
       "701010   ❤ ❤ call whatsapp +1(867)322-3045 sext nudes ❤...   \n",
       "961839   ❤ ❤ call whatsapp sext nudes +1(867)322-3045 ❤...   \n",
       "978643   ❤ ❤ call whatsapp +1(867)322-3045 sext nudes ❤...   \n",
       "1076949  ❤ call whatsapp +1(867)322-3045 sext nudes ❤ ❤...   \n",
       "1364686  ❤ ❤ call whatsapp sext nudes +1(867)322-3045 ❤...   \n",
       "\n",
       "                                                 tokenized  \n",
       "15763    [❤, call, whatsapp, +1(867)322-3045, sext, nud...  \n",
       "86252    [❤, ❤, call, whatsapp, +18673223045, sext, nud...  \n",
       "135691   [❤, ❤, call, whatsapp, sext, nudes, +186732230...  \n",
       "157219   [❤, call, whatsapp, sext, nudes, +18673223045,...  \n",
       "300925   [❤, ❤, call, whatsapp, sext, nudes, +186732230...  \n",
       "329645   [❤, ❤, call, whatsapp, sext, nudes, +1(867)322...  \n",
       "395901   [❤, call, whatsapp, +1(867)322-3045, sext, nud...  \n",
       "432009   [❤, call, whatsapp, sext, nudes, +1(867)322-30...  \n",
       "500132   [❤, ❤, call, whatsapp, sext, nudes, +1(867)322...  \n",
       "623618   [❤, call, whatsapp, sext, nudes, +1(867)322-30...  \n",
       "634495   [❤, ❤, call, whatsapp, +18673223045, sext, nud...  \n",
       "701010   [❤, ❤, call, whatsapp, +1(867)322-3045, sext, ...  \n",
       "961839   [❤, ❤, call, whatsapp, sext, nudes, +1(867)322...  \n",
       "978643   [❤, ❤, call, whatsapp, +1(867)322-3045, sext, ...  \n",
       "1076949  [❤, call, whatsapp, +1(867)322-3045, sext, nud...  \n",
       "1364686  [❤, ❤, call, whatsapp, sext, nudes, +1(867)322...  "
      ]
     },
     "execution_count": 54,
     "metadata": {},
     "output_type": "execute_result"
    }
   ],
   "source": [
    "train_df[train_df['clean_text'].str.contains('867')]"
   ]
  },
  {
   "cell_type": "markdown",
   "metadata": {},
   "source": [
    "---"
   ]
  },
  {
   "cell_type": "markdown",
   "metadata": {},
   "source": [
    "# Description"
   ]
  },
  {
   "cell_type": "markdown",
   "metadata": {},
   "source": [
    "## Pre-processing"
   ]
  },
  {
   "cell_type": "markdown",
   "metadata": {},
   "source": [
    "### read data  \n",
    "simply merge all data set together to form a single pandas data frame\n",
    "and also split the data set into train/test data set"
   ]
  },
  {
   "cell_type": "markdown",
   "metadata": {},
   "source": [
    "### enumerate data\n",
    "play with the data set, try to find out some clues for cleaning\n",
    "\n",
    "##### Things have tried:\n",
    "+ replacing \\< LH > with predict emotion, and utilize w2v to see the similar word to replaced emotion\n",
    "   > but turns out, words are not really distinguish between emotions (using t-SNE to plot, some glues together)  \n",
    "   > and also, hashtag symbol '#' should also be removed (some are duplicate)\n",
    "+ count the occurrence of words, and trys to see if any useful or not helpful\n",
    "   > should also remove duplicate '#'  \n",
    "   > the word unique list is too high, need a way to reduce it\n",
    "   \n",
    "##### Conclusion:\n",
    "+ replacing \\< LH >, since it is considered as a noize (occurs everywhere, not helping to distinguish)\n",
    "+ only consider the words both exist in train and test (otherwise, might use some word that is not popular to estimate)"
   ]
  },
  {
   "cell_type": "markdown",
   "metadata": {},
   "source": [
    "### clean the data\n"
   ]
  },
  {
   "cell_type": "markdown",
   "metadata": {},
   "source": [
    "+ some words like 'the', 'to', 'of', which is conjunctions, should be removed.\n",
    "+ words should all be downcase. (prevent word to be duplicate by one upper-case and one lower-case, i.e. Happy, happy)  \n",
    "+ remove meaningless punctuation\n",
    "+ consider only words exist both in train and test"
   ]
  },
  {
   "cell_type": "markdown",
   "metadata": {},
   "source": [
    "## Feature Engineering"
   ]
  },
  {
   "cell_type": "markdown",
   "metadata": {},
   "source": [
    "#### Bag of Word\n",
    "using word count to represent sentence\n",
    "\n",
    "#### Word to Vector (w2v)\n",
    "using w2v, and by sum of the word vectors in sentence to represent sentence\n",
    "\n",
    "#### glove (pre-trained w2v)\n",
    "instead of training w2v by the data, utilize pre-trained w2v vector and sum of the word vectors in sentence to represent sentence\n",
    "\n",
    "#### w2v & TFIDF\n",
    "using sum of [word vector * word TF-IDF] to represent sentence\n",
    "\n",
    "#### word embedding & w2v\n",
    "utilizing word embedding, i.e., I -> 1 ; am -> 2 , ...\n",
    "each word in the sentence will be transformed into integer, and the integer will be used to find corresponding word vector\n",
    "\n",
    "#### word embedding & glove\n",
    "same as word embedding & w2v, but use pre-trained w2v"
   ]
  },
  {
   "cell_type": "markdown",
   "metadata": {},
   "source": [
    "## Modeling"
   ]
  },
  {
   "cell_type": "markdown",
   "metadata": {},
   "source": [
    "+ Decision Tree\n",
    "+ Multinomial Naive Bayes\n",
    "+ Deep learning\n",
    "    + Dense (BOW, w2v, glove)\n",
    "    + LSTM (word embedding & w2v / word embedding & glove)"
   ]
  },
  {
   "cell_type": "markdown",
   "metadata": {},
   "source": [
    "---"
   ]
  },
  {
   "cell_type": "markdown",
   "metadata": {},
   "source": [
    "# Code"
   ]
  },
  {
   "cell_type": "markdown",
   "metadata": {},
   "source": [
    "## Pre-processing"
   ]
  },
  {
   "cell_type": "markdown",
   "metadata": {},
   "source": [
    "### Read data"
   ]
  },
  {
   "cell_type": "code",
   "execution_count": 1,
   "metadata": {},
   "outputs": [
    {
     "name": "stdout",
     "output_type": "stream",
     "text": [
      "         id   emotion\n",
      "0  0x2c7743  surprise\n",
      "1  0x2c1eed  surprise\n",
      "2  0x2826ea  surprise\n",
      "3  0x356d9a  surprise\n",
      "4  0x20fd95  surprise\n",
      "   tweet_id identification\n",
      "0  0x28cc61           test\n",
      "1  0x29e452          train\n",
      "2  0x2b3819          train\n",
      "3  0x2db41f           test\n",
      "4  0x2a2acc          train\n",
      "   tweet_id       emotion\n",
      "0  0x3140b1       sadness\n",
      "1  0x368b73       disgust\n",
      "2  0x296183  anticipation\n",
      "3  0x2bd6e1           joy\n",
      "4  0x2ee1dd  anticipation\n"
     ]
    }
   ],
   "source": [
    "import pandas as pd\n",
    "\n",
    "# reading from file\n",
    "sampleSubmission = pd.read_csv('./input/sampleSubmission.csv')\n",
    "data_identification = pd.read_csv('./input/data_identification.csv')\n",
    "emotion = pd.read_csv('./input/emotion.csv')\n",
    "\n",
    "#test input\n",
    "print(sampleSubmission.head())\n",
    "print(data_identification.head())\n",
    "print(emotion.head())"
   ]
  },
  {
   "cell_type": "code",
   "execution_count": 2,
   "metadata": {},
   "outputs": [
    {
     "data": {
      "text/html": [
       "<div>\n",
       "<style scoped>\n",
       "    .dataframe tbody tr th:only-of-type {\n",
       "        vertical-align: middle;\n",
       "    }\n",
       "\n",
       "    .dataframe tbody tr th {\n",
       "        vertical-align: top;\n",
       "    }\n",
       "\n",
       "    .dataframe thead th {\n",
       "        text-align: right;\n",
       "    }\n",
       "</style>\n",
       "<table border=\"1\" class=\"dataframe\">\n",
       "  <thead>\n",
       "    <tr style=\"text-align: right;\">\n",
       "      <th></th>\n",
       "      <th>tweet.hashtags</th>\n",
       "      <th>tweet.text</th>\n",
       "      <th>tweet.tweet_id</th>\n",
       "    </tr>\n",
       "  </thead>\n",
       "  <tbody>\n",
       "    <tr>\n",
       "      <th>0</th>\n",
       "      <td>[Snapchat]</td>\n",
       "      <td>People who post \"add me on #Snapchat\" must be ...</td>\n",
       "      <td>0x376b20</td>\n",
       "    </tr>\n",
       "    <tr>\n",
       "      <th>1</th>\n",
       "      <td>[freepress, TrumpLegacy, CNN]</td>\n",
       "      <td>@brianklaas As we see, Trump is dangerous to #...</td>\n",
       "      <td>0x2d5350</td>\n",
       "    </tr>\n",
       "    <tr>\n",
       "      <th>2</th>\n",
       "      <td>[bibleverse]</td>\n",
       "      <td>Confident of your obedience, I write to you, k...</td>\n",
       "      <td>0x28b412</td>\n",
       "    </tr>\n",
       "    <tr>\n",
       "      <th>3</th>\n",
       "      <td>[]</td>\n",
       "      <td>Now ISSA is stalking Tasha 😂😂😂 &lt;LH&gt;</td>\n",
       "      <td>0x1cd5b0</td>\n",
       "    </tr>\n",
       "    <tr>\n",
       "      <th>4</th>\n",
       "      <td>[]</td>\n",
       "      <td>\"Trust is not the same as faith. A friend is s...</td>\n",
       "      <td>0x2de201</td>\n",
       "    </tr>\n",
       "  </tbody>\n",
       "</table>\n",
       "</div>"
      ],
      "text/plain": [
       "                  tweet.hashtags  \\\n",
       "0                     [Snapchat]   \n",
       "1  [freepress, TrumpLegacy, CNN]   \n",
       "2                   [bibleverse]   \n",
       "3                             []   \n",
       "4                             []   \n",
       "\n",
       "                                          tweet.text tweet.tweet_id  \n",
       "0  People who post \"add me on #Snapchat\" must be ...       0x376b20  \n",
       "1  @brianklaas As we see, Trump is dangerous to #...       0x2d5350  \n",
       "2  Confident of your obedience, I write to you, k...       0x28b412  \n",
       "3                Now ISSA is stalking Tasha 😂😂😂 <LH>       0x1cd5b0  \n",
       "4  \"Trust is not the same as faith. A friend is s...       0x2de201  "
      ]
     },
     "execution_count": 2,
     "metadata": {},
     "output_type": "execute_result"
    }
   ],
   "source": [
    "import json\n",
    "from pandas.io.json import json_normalize\n",
    "\n",
    "d = pd.read_json('./input/tweets_DM.json', lines=True)\n",
    "tweets_DM = json_normalize(d['_source'])\n",
    "\n",
    "tweets_DM.head()"
   ]
  },
  {
   "cell_type": "code",
   "execution_count": 3,
   "metadata": {},
   "outputs": [
    {
     "data": {
      "text/html": [
       "<div>\n",
       "<style scoped>\n",
       "    .dataframe tbody tr th:only-of-type {\n",
       "        vertical-align: middle;\n",
       "    }\n",
       "\n",
       "    .dataframe tbody tr th {\n",
       "        vertical-align: top;\n",
       "    }\n",
       "\n",
       "    .dataframe thead th {\n",
       "        text-align: right;\n",
       "    }\n",
       "</style>\n",
       "<table border=\"1\" class=\"dataframe\">\n",
       "  <thead>\n",
       "    <tr style=\"text-align: right;\">\n",
       "      <th></th>\n",
       "      <th>hashtags</th>\n",
       "      <th>text</th>\n",
       "      <th>tweet_id</th>\n",
       "    </tr>\n",
       "  </thead>\n",
       "  <tbody>\n",
       "    <tr>\n",
       "      <th>0</th>\n",
       "      <td>[Snapchat]</td>\n",
       "      <td>People who post \"add me on #Snapchat\" must be ...</td>\n",
       "      <td>0x376b20</td>\n",
       "    </tr>\n",
       "    <tr>\n",
       "      <th>1</th>\n",
       "      <td>[freepress, TrumpLegacy, CNN]</td>\n",
       "      <td>@brianklaas As we see, Trump is dangerous to #...</td>\n",
       "      <td>0x2d5350</td>\n",
       "    </tr>\n",
       "    <tr>\n",
       "      <th>2</th>\n",
       "      <td>[bibleverse]</td>\n",
       "      <td>Confident of your obedience, I write to you, k...</td>\n",
       "      <td>0x28b412</td>\n",
       "    </tr>\n",
       "    <tr>\n",
       "      <th>3</th>\n",
       "      <td>[]</td>\n",
       "      <td>Now ISSA is stalking Tasha 😂😂😂 &lt;LH&gt;</td>\n",
       "      <td>0x1cd5b0</td>\n",
       "    </tr>\n",
       "    <tr>\n",
       "      <th>4</th>\n",
       "      <td>[]</td>\n",
       "      <td>\"Trust is not the same as faith. A friend is s...</td>\n",
       "      <td>0x2de201</td>\n",
       "    </tr>\n",
       "  </tbody>\n",
       "</table>\n",
       "</div>"
      ],
      "text/plain": [
       "                        hashtags  \\\n",
       "0                     [Snapchat]   \n",
       "1  [freepress, TrumpLegacy, CNN]   \n",
       "2                   [bibleverse]   \n",
       "3                             []   \n",
       "4                             []   \n",
       "\n",
       "                                                text  tweet_id  \n",
       "0  People who post \"add me on #Snapchat\" must be ...  0x376b20  \n",
       "1  @brianklaas As we see, Trump is dangerous to #...  0x2d5350  \n",
       "2  Confident of your obedience, I write to you, k...  0x28b412  \n",
       "3                Now ISSA is stalking Tasha 😂😂😂 <LH>  0x1cd5b0  \n",
       "4  \"Trust is not the same as faith. A friend is s...  0x2de201  "
      ]
     },
     "execution_count": 3,
     "metadata": {},
     "output_type": "execute_result"
    }
   ],
   "source": [
    "tweets_DM.rename(columns={'tweet.hashtags': 'hashtags', 'tweet.text': 'text', 'tweet.tweet_id': 'tweet_id'}, inplace=True)\n",
    "tweets_DM.head()"
   ]
  },
  {
   "cell_type": "markdown",
   "metadata": {},
   "source": [
    "```python\n",
    "# merge the data set into one pandas frame\n",
    "```"
   ]
  },
  {
   "cell_type": "code",
   "execution_count": 4,
   "metadata": {},
   "outputs": [],
   "source": [
    "tweets_DM = pd.merge(tweets_DM, emotion, how='outer', on=['tweet_id'])\n",
    "tweets_DM = pd.merge(tweets_DM, data_identification, how='outer', on=['tweet_id'])"
   ]
  },
  {
   "cell_type": "code",
   "execution_count": 5,
   "metadata": {},
   "outputs": [
    {
     "data": {
      "text/html": [
       "<div>\n",
       "<style scoped>\n",
       "    .dataframe tbody tr th:only-of-type {\n",
       "        vertical-align: middle;\n",
       "    }\n",
       "\n",
       "    .dataframe tbody tr th {\n",
       "        vertical-align: top;\n",
       "    }\n",
       "\n",
       "    .dataframe thead th {\n",
       "        text-align: right;\n",
       "    }\n",
       "</style>\n",
       "<table border=\"1\" class=\"dataframe\">\n",
       "  <thead>\n",
       "    <tr style=\"text-align: right;\">\n",
       "      <th></th>\n",
       "      <th>hashtags</th>\n",
       "      <th>text</th>\n",
       "      <th>tweet_id</th>\n",
       "      <th>emotion</th>\n",
       "      <th>identification</th>\n",
       "    </tr>\n",
       "  </thead>\n",
       "  <tbody>\n",
       "    <tr>\n",
       "      <th>0</th>\n",
       "      <td>[Snapchat]</td>\n",
       "      <td>People who post \"add me on #Snapchat\" must be ...</td>\n",
       "      <td>0x376b20</td>\n",
       "      <td>anticipation</td>\n",
       "      <td>train</td>\n",
       "    </tr>\n",
       "    <tr>\n",
       "      <th>1</th>\n",
       "      <td>[freepress, TrumpLegacy, CNN]</td>\n",
       "      <td>@brianklaas As we see, Trump is dangerous to #...</td>\n",
       "      <td>0x2d5350</td>\n",
       "      <td>sadness</td>\n",
       "      <td>train</td>\n",
       "    </tr>\n",
       "    <tr>\n",
       "      <th>2</th>\n",
       "      <td>[bibleverse]</td>\n",
       "      <td>Confident of your obedience, I write to you, k...</td>\n",
       "      <td>0x28b412</td>\n",
       "      <td>NaN</td>\n",
       "      <td>test</td>\n",
       "    </tr>\n",
       "    <tr>\n",
       "      <th>3</th>\n",
       "      <td>[]</td>\n",
       "      <td>Now ISSA is stalking Tasha 😂😂😂 &lt;LH&gt;</td>\n",
       "      <td>0x1cd5b0</td>\n",
       "      <td>fear</td>\n",
       "      <td>train</td>\n",
       "    </tr>\n",
       "    <tr>\n",
       "      <th>4</th>\n",
       "      <td>[]</td>\n",
       "      <td>\"Trust is not the same as faith. A friend is s...</td>\n",
       "      <td>0x2de201</td>\n",
       "      <td>NaN</td>\n",
       "      <td>test</td>\n",
       "    </tr>\n",
       "  </tbody>\n",
       "</table>\n",
       "</div>"
      ],
      "text/plain": [
       "                        hashtags  \\\n",
       "0                     [Snapchat]   \n",
       "1  [freepress, TrumpLegacy, CNN]   \n",
       "2                   [bibleverse]   \n",
       "3                             []   \n",
       "4                             []   \n",
       "\n",
       "                                                text  tweet_id       emotion  \\\n",
       "0  People who post \"add me on #Snapchat\" must be ...  0x376b20  anticipation   \n",
       "1  @brianklaas As we see, Trump is dangerous to #...  0x2d5350       sadness   \n",
       "2  Confident of your obedience, I write to you, k...  0x28b412           NaN   \n",
       "3                Now ISSA is stalking Tasha 😂😂😂 <LH>  0x1cd5b0          fear   \n",
       "4  \"Trust is not the same as faith. A friend is s...  0x2de201           NaN   \n",
       "\n",
       "  identification  \n",
       "0          train  \n",
       "1          train  \n",
       "2           test  \n",
       "3          train  \n",
       "4           test  "
      ]
     },
     "execution_count": 5,
     "metadata": {},
     "output_type": "execute_result"
    }
   ],
   "source": [
    "tweets_DM.head()"
   ]
  },
  {
   "cell_type": "markdown",
   "metadata": {},
   "source": [
    "```python\n",
    "# split the data set to train / test\n",
    "```"
   ]
  },
  {
   "cell_type": "code",
   "execution_count": 6,
   "metadata": {},
   "outputs": [],
   "source": [
    "tweets_DM_train = tweets_DM[tweets_DM['identification'] == 'train']\n",
    "tweets_DM_test = tweets_DM[tweets_DM['identification'] == 'test']"
   ]
  },
  {
   "cell_type": "markdown",
   "metadata": {},
   "source": [
    "```python\n",
    "# save into pickle\n",
    "```"
   ]
  },
  {
   "cell_type": "code",
   "execution_count": null,
   "metadata": {},
   "outputs": [],
   "source": [
    "tweets_DM_train.to_pickle(\"./PickleTrainTestSet/train_df.pkl\") \n",
    "tweets_DM_test.to_pickle(\"./PickleTrainTestSet/test_df.pkl\")"
   ]
  },
  {
   "cell_type": "markdown",
   "metadata": {},
   "source": [
    "### enumerate data"
   ]
  },
  {
   "cell_type": "markdown",
   "metadata": {},
   "source": [
    "```python\n",
    "# load the data set\n",
    "```"
   ]
  },
  {
   "cell_type": "code",
   "execution_count": 7,
   "metadata": {},
   "outputs": [],
   "source": [
    "train_df = pd.read_pickle(\"./PickleTrainTestSet/train_df.pkl\")\n",
    "test_df = pd.read_pickle(\"./PickleTrainTestSet/test_df.pkl\")"
   ]
  },
  {
   "cell_type": "markdown",
   "metadata": {},
   "source": [
    "#### replacing < LH > with predict emotion, and utilize w2v to see the similar word to replaced emotion"
   ]
  },
  {
   "cell_type": "code",
   "execution_count": 8,
   "metadata": {},
   "outputs": [],
   "source": [
    "def replaceLabel(text, emotion):\n",
    "    temp = text[:]\n",
    "    temp = temp.replace('<LH>', emotion)\n",
    "    return temp"
   ]
  },
  {
   "cell_type": "code",
   "execution_count": 9,
   "metadata": {},
   "outputs": [
    {
     "name": "stderr",
     "output_type": "stream",
     "text": [
      "progress-bar: 100%|██████████| 1455563/1455563 [01:02<00:00, 23349.14it/s]\n"
     ]
    }
   ],
   "source": [
    "from tqdm import tqdm\n",
    "tqdm.pandas(desc = \"progress-bar\")\n",
    "\n",
    "train_df['replaceLabel'] = train_df.progress_apply(lambda x: replaceLabel(x['text'], x['emotion']), axis=1)"
   ]
  },
  {
   "cell_type": "markdown",
   "metadata": {},
   "source": [
    "```python\n",
    "# in order to present w2v, first tokenize it\n",
    "```"
   ]
  },
  {
   "cell_type": "code",
   "execution_count": 10,
   "metadata": {},
   "outputs": [
    {
     "name": "stderr",
     "output_type": "stream",
     "text": [
      "progress-bar: 100%|██████████| 1455563/1455563 [02:02<00:00, 11898.33it/s]\n"
     ]
    },
    {
     "data": {
      "text/html": [
       "<div>\n",
       "<style scoped>\n",
       "    .dataframe tbody tr th:only-of-type {\n",
       "        vertical-align: middle;\n",
       "    }\n",
       "\n",
       "    .dataframe tbody tr th {\n",
       "        vertical-align: top;\n",
       "    }\n",
       "\n",
       "    .dataframe thead th {\n",
       "        text-align: right;\n",
       "    }\n",
       "</style>\n",
       "<table border=\"1\" class=\"dataframe\">\n",
       "  <thead>\n",
       "    <tr style=\"text-align: right;\">\n",
       "      <th></th>\n",
       "      <th>hashtags</th>\n",
       "      <th>text</th>\n",
       "      <th>tweet_id</th>\n",
       "      <th>emotion</th>\n",
       "      <th>identification</th>\n",
       "      <th>replaceLabel</th>\n",
       "      <th>replaceLabel_tokenized</th>\n",
       "    </tr>\n",
       "  </thead>\n",
       "  <tbody>\n",
       "    <tr>\n",
       "      <th>0</th>\n",
       "      <td>[Snapchat]</td>\n",
       "      <td>People who post \"add me on #Snapchat\" must be ...</td>\n",
       "      <td>0x376b20</td>\n",
       "      <td>anticipation</td>\n",
       "      <td>train</td>\n",
       "      <td>People who post \"add me on #Snapchat\" must be ...</td>\n",
       "      <td>[People, who, post, \", add, me, on, #Snapchat,...</td>\n",
       "    </tr>\n",
       "    <tr>\n",
       "      <th>1</th>\n",
       "      <td>[freepress, TrumpLegacy, CNN]</td>\n",
       "      <td>@brianklaas As we see, Trump is dangerous to #...</td>\n",
       "      <td>0x2d5350</td>\n",
       "      <td>sadness</td>\n",
       "      <td>train</td>\n",
       "      <td>@brianklaas As we see, Trump is dangerous to #...</td>\n",
       "      <td>[@brianklaas, As, we, see, ,, Trump, is, dange...</td>\n",
       "    </tr>\n",
       "    <tr>\n",
       "      <th>2</th>\n",
       "      <td>[]</td>\n",
       "      <td>Now ISSA is stalking Tasha 😂😂😂 &lt;LH&gt;</td>\n",
       "      <td>0x1cd5b0</td>\n",
       "      <td>fear</td>\n",
       "      <td>train</td>\n",
       "      <td>Now ISSA is stalking Tasha 😂😂😂 fear</td>\n",
       "      <td>[Now, ISSA, is, stalking, Tasha, 😂, 😂, 😂, fear]</td>\n",
       "    </tr>\n",
       "    <tr>\n",
       "      <th>3</th>\n",
       "      <td>[authentic, LaughOutLoud]</td>\n",
       "      <td>@RISKshow @TheKevinAllison Thx for the BEST TI...</td>\n",
       "      <td>0x1d755c</td>\n",
       "      <td>joy</td>\n",
       "      <td>train</td>\n",
       "      <td>@RISKshow @TheKevinAllison Thx for the BEST TI...</td>\n",
       "      <td>[@RISKshow, @TheKevinAllison, Thx, for, the, B...</td>\n",
       "    </tr>\n",
       "    <tr>\n",
       "      <th>4</th>\n",
       "      <td>[]</td>\n",
       "      <td>Still waiting on those supplies Liscus. &lt;LH&gt;</td>\n",
       "      <td>0x2c91a8</td>\n",
       "      <td>anticipation</td>\n",
       "      <td>train</td>\n",
       "      <td>Still waiting on those supplies Liscus. antici...</td>\n",
       "      <td>[Still, waiting, on, those, supplies, Liscus, ...</td>\n",
       "    </tr>\n",
       "  </tbody>\n",
       "</table>\n",
       "</div>"
      ],
      "text/plain": [
       "                        hashtags  \\\n",
       "0                     [Snapchat]   \n",
       "1  [freepress, TrumpLegacy, CNN]   \n",
       "2                             []   \n",
       "3      [authentic, LaughOutLoud]   \n",
       "4                             []   \n",
       "\n",
       "                                                text  tweet_id       emotion  \\\n",
       "0  People who post \"add me on #Snapchat\" must be ...  0x376b20  anticipation   \n",
       "1  @brianklaas As we see, Trump is dangerous to #...  0x2d5350       sadness   \n",
       "2                Now ISSA is stalking Tasha 😂😂😂 <LH>  0x1cd5b0          fear   \n",
       "3  @RISKshow @TheKevinAllison Thx for the BEST TI...  0x1d755c           joy   \n",
       "4       Still waiting on those supplies Liscus. <LH>  0x2c91a8  anticipation   \n",
       "\n",
       "  identification                                       replaceLabel  \\\n",
       "0          train  People who post \"add me on #Snapchat\" must be ...   \n",
       "1          train  @brianklaas As we see, Trump is dangerous to #...   \n",
       "2          train                Now ISSA is stalking Tasha 😂😂😂 fear   \n",
       "3          train  @RISKshow @TheKevinAllison Thx for the BEST TI...   \n",
       "4          train  Still waiting on those supplies Liscus. antici...   \n",
       "\n",
       "                              replaceLabel_tokenized  \n",
       "0  [People, who, post, \", add, me, on, #Snapchat,...  \n",
       "1  [@brianklaas, As, we, see, ,, Trump, is, dange...  \n",
       "2    [Now, ISSA, is, stalking, Tasha, 😂, 😂, 😂, fear]  \n",
       "3  [@RISKshow, @TheKevinAllison, Thx, for, the, B...  \n",
       "4  [Still, waiting, on, those, supplies, Liscus, ...  "
      ]
     },
     "execution_count": 10,
     "metadata": {},
     "output_type": "execute_result"
    }
   ],
   "source": [
    "from nltk.tokenize import TweetTokenizer\n",
    "tknzr = TweetTokenizer()\n",
    "\n",
    "train_df['replaceLabel_tokenized'] = train_df['replaceLabel'].progress_apply(lambda x: tknzr.tokenize(x))\n",
    "train_df.head()"
   ]
  },
  {
   "cell_type": "code",
   "execution_count": 11,
   "metadata": {},
   "outputs": [
    {
     "data": {
      "text/plain": [
       "array([list(['People', 'who', 'post', '\"', 'add', 'me', 'on', '#Snapchat', '\"', 'must', 'be', 'dehydrated', '.', 'Cuz', 'man', '...', \"that's\", 'anticipation']),\n",
       "       list(['@brianklaas', 'As', 'we', 'see', ',', 'Trump', 'is', 'dangerous', 'to', '#freepress', 'around', 'the', 'world', '.', 'What', 'a', 'sadness', 'sadness', '#TrumpLegacy', '.', '#CNN']),\n",
       "       list(['Now', 'ISSA', 'is', 'stalking', 'Tasha', '😂', '😂', '😂', 'fear'])],\n",
       "      dtype=object)"
      ]
     },
     "execution_count": 11,
     "metadata": {},
     "output_type": "execute_result"
    }
   ],
   "source": [
    "training_corpus = train_df['replaceLabel_tokenized'].values\n",
    "training_corpus[:3]"
   ]
  },
  {
   "cell_type": "code",
   "execution_count": 12,
   "metadata": {
    "scrolled": true
   },
   "outputs": [],
   "source": [
    "import gensim\n",
    "from gensim.models import Word2Vec\n",
    "\n",
    "## setting\n",
    "vector_dim = 50\n",
    "window_size = 5\n",
    "min_count = 1\n",
    "training_iter = 20\n",
    "\n",
    "## model\n",
    "word2vec_model = Word2Vec(sentences=training_corpus, \n",
    "                          size=vector_dim, window=window_size,\n",
    "                          min_count=min_count, iter=training_iter)"
   ]
  },
  {
   "cell_type": "code",
   "execution_count": 13,
   "metadata": {},
   "outputs": [
    {
     "data": {
      "text/plain": [
       "['anticipation',\n",
       " 'sadness',\n",
       " 'fear',\n",
       " 'joy',\n",
       " 'anger',\n",
       " 'trust',\n",
       " 'disgust',\n",
       " 'surprise']"
      ]
     },
     "execution_count": 13,
     "metadata": {},
     "output_type": "execute_result"
    }
   ],
   "source": [
    "emoList = train_df['emotion'].unique().tolist()\n",
    "emoList"
   ]
  },
  {
   "cell_type": "code",
   "execution_count": 14,
   "metadata": {},
   "outputs": [
    {
     "name": "stderr",
     "output_type": "stream",
     "text": [
      "/home/lu/anaconda3/envs/NTHU_DataMining/lib/python3.6/site-packages/gensim/matutils.py:737: FutureWarning: Conversion of the second argument of issubdtype from `int` to `np.signedinteger` is deprecated. In future, it will be treated as `np.int64 == np.dtype(int).type`.\n",
      "  if np.issubdtype(vec.dtype, np.int):\n"
     ]
    }
   ],
   "source": [
    "topn = 500\n",
    "\n",
    "for i, emo in enumerate(emoList):\n",
    "    similarList = [emo]\n",
    "    similarList.extend([word_ for word_, sim_ in word2vec_model.wv.most_similar(emo, topn=topn)])\n",
    "    if (i == 0):\n",
    "        df = pd.DataFrame({'label':similarList})\n",
    "        df['emotion'] = [emo for i in range(topn+1)]\n",
    "    else:\n",
    "        df2 = pd.DataFrame({'label':similarList})\n",
    "        df2['emotion'] = [emo for i in range(topn+1)]\n",
    "        df = df.append(df2)"
   ]
  },
  {
   "cell_type": "code",
   "execution_count": 15,
   "metadata": {},
   "outputs": [],
   "source": [
    "from sklearn.manifold import TSNE\n",
    "\n",
    "## w2v model\n",
    "model = word2vec_model\n",
    "\n",
    "target_words = df['label'].tolist()\n",
    "\n",
    "## prepare training word vectors\n",
    "size = 200\n",
    "target_size = len(target_words)\n",
    "all_word = list(model.wv.vocab.keys())\n",
    "word_train = target_words + all_word[:size]\n",
    "X_train = model.wv[word_train]\n",
    "\n",
    "## t-SNE model\n",
    "tsne = TSNE(n_components=2, metric='cosine', random_state=28)\n",
    "\n",
    "## training\n",
    "X_tsne = tsne.fit_transform(X_train)"
   ]
  },
  {
   "cell_type": "code",
   "execution_count": 16,
   "metadata": {},
   "outputs": [
    {
     "data": {
      "text/plain": [
       "<matplotlib.legend.Legend at 0x7f1a866d9b00>"
      ]
     },
     "execution_count": 16,
     "metadata": {},
     "output_type": "execute_result"
    },
    {
     "data": {
      "image/png": "[encoded data removed]",
      "text/plain": [
       "<Figure size 750x750 with 1 Axes>"
      ]
     },
     "metadata": {},
     "output_type": "display_data"
    }
   ],
   "source": [
    "import seaborn as sns\n",
    "import matplotlib.pyplot as plt\n",
    "%matplotlib inline\n",
    "plt.style.use('ggplot')\n",
    "\n",
    "df['X'] = X_tsne[:target_size, 0]\n",
    "df['Y'] = X_tsne[:target_size, 1]\n",
    "\n",
    "sns.set(rc={'figure.figsize':(7.5,7.5), 'figure.dpi':150})\n",
    "sns.lmplot( x=\"X\", y=\"Y\", data=df, fit_reg=False, hue='emotion', legend=False, palette=\"Set2\", scatter_kws={'alpha':0.5})\n",
    "plt.legend(loc='lower right', bbox_to_anchor=(1.4, 0))"
   ]
  },
  {
   "cell_type": "markdown",
   "metadata": {},
   "source": [
    "Everything just glues together, which indicate that it probably won't give a good result  \n",
    "(But we can see that, anticipation is really concentrate)"
   ]
  },
  {
   "cell_type": "code",
   "execution_count": 25,
   "metadata": {},
   "outputs": [
    {
     "data": {
      "text/html": [
       "<div>\n",
       "<style scoped>\n",
       "    .dataframe tbody tr th:only-of-type {\n",
       "        vertical-align: middle;\n",
       "    }\n",
       "\n",
       "    .dataframe tbody tr th {\n",
       "        vertical-align: top;\n",
       "    }\n",
       "\n",
       "    .dataframe thead th {\n",
       "        text-align: right;\n",
       "    }\n",
       "</style>\n",
       "<table border=\"1\" class=\"dataframe\">\n",
       "  <thead>\n",
       "    <tr style=\"text-align: right;\">\n",
       "      <th></th>\n",
       "      <th>label</th>\n",
       "      <th>emotion</th>\n",
       "      <th>X</th>\n",
       "      <th>Y</th>\n",
       "    </tr>\n",
       "  </thead>\n",
       "  <tbody>\n",
       "    <tr>\n",
       "      <th>0</th>\n",
       "      <td>anticipation</td>\n",
       "      <td>anticipation</td>\n",
       "      <td>-94.317970</td>\n",
       "      <td>-5.126724</td>\n",
       "    </tr>\n",
       "    <tr>\n",
       "      <th>1</th>\n",
       "      <td>#Jesus</td>\n",
       "      <td>anticipation</td>\n",
       "      <td>-75.757080</td>\n",
       "      <td>19.811584</td>\n",
       "    </tr>\n",
       "    <tr>\n",
       "      <th>2</th>\n",
       "      <td>#God</td>\n",
       "      <td>anticipation</td>\n",
       "      <td>-75.545998</td>\n",
       "      <td>20.535461</td>\n",
       "    </tr>\n",
       "    <tr>\n",
       "      <th>3</th>\n",
       "      <td>#Christ</td>\n",
       "      <td>anticipation</td>\n",
       "      <td>-77.481522</td>\n",
       "      <td>20.005302</td>\n",
       "    </tr>\n",
       "    <tr>\n",
       "      <th>4</th>\n",
       "      <td>Christ</td>\n",
       "      <td>anticipation</td>\n",
       "      <td>-76.804176</td>\n",
       "      <td>19.974157</td>\n",
       "    </tr>\n",
       "    <tr>\n",
       "      <th>5</th>\n",
       "      <td>Jesus</td>\n",
       "      <td>anticipation</td>\n",
       "      <td>-75.571335</td>\n",
       "      <td>19.660305</td>\n",
       "    </tr>\n",
       "    <tr>\n",
       "      <th>6</th>\n",
       "      <td>God</td>\n",
       "      <td>anticipation</td>\n",
       "      <td>-74.962860</td>\n",
       "      <td>21.814756</td>\n",
       "    </tr>\n",
       "    <tr>\n",
       "      <th>7</th>\n",
       "      <td>#church</td>\n",
       "      <td>anticipation</td>\n",
       "      <td>-81.447029</td>\n",
       "      <td>15.447720</td>\n",
       "    </tr>\n",
       "    <tr>\n",
       "      <th>8</th>\n",
       "      <td>salvation</td>\n",
       "      <td>anticipation</td>\n",
       "      <td>-70.450203</td>\n",
       "      <td>24.049555</td>\n",
       "    </tr>\n",
       "    <tr>\n",
       "      <th>9</th>\n",
       "      <td>#Faith</td>\n",
       "      <td>anticipation</td>\n",
       "      <td>-73.844513</td>\n",
       "      <td>6.039202</td>\n",
       "    </tr>\n",
       "  </tbody>\n",
       "</table>\n",
       "</div>"
      ],
      "text/plain": [
       "          label       emotion          X          Y\n",
       "0  anticipation  anticipation -94.317970  -5.126724\n",
       "1        #Jesus  anticipation -75.757080  19.811584\n",
       "2          #God  anticipation -75.545998  20.535461\n",
       "3       #Christ  anticipation -77.481522  20.005302\n",
       "4        Christ  anticipation -76.804176  19.974157\n",
       "5         Jesus  anticipation -75.571335  19.660305\n",
       "6           God  anticipation -74.962860  21.814756\n",
       "7       #church  anticipation -81.447029  15.447720\n",
       "8     salvation  anticipation -70.450203  24.049555\n",
       "9        #Faith  anticipation -73.844513   6.039202"
      ]
     },
     "execution_count": 25,
     "metadata": {},
     "output_type": "execute_result"
    }
   ],
   "source": [
    "df[df['emotion'] == 'anticipation'].head(10)"
   ]
  },
  {
   "cell_type": "markdown",
   "metadata": {},
   "source": [
    "#god and God is duplicate, and they should be consider as the same word, thus '#' should be removed"
   ]
  },
  {
   "cell_type": "markdown",
   "metadata": {},
   "source": [
    "#### count the occurrence of words, and trys to see if any useful or not helpful"
   ]
  },
  {
   "cell_type": "code",
   "execution_count": 26,
   "metadata": {
    "scrolled": true
   },
   "outputs": [
    {
     "data": {
      "text/plain": [
       "CountVectorizer(analyzer='word', binary=False, decode_error='strict',\n",
       "        dtype=<class 'numpy.int64'>, encoding='utf-8', input='content',\n",
       "        lowercase=False, max_df=1.0, max_features=None, min_df=1,\n",
       "        ngram_range=(1, 1), preprocessor=None, stop_words=None,\n",
       "        strip_accents=None, token_pattern='(?u)\\\\b\\\\w\\\\w+\\\\b',\n",
       "        tokenizer=<bound method TweetTokenizer.tokenize of <nltk.tokenize.casual.TweetTokenizer object at 0x7f1a583ebcf8>>,\n",
       "        vocabulary=None)"
      ]
     },
     "execution_count": 26,
     "metadata": {},
     "output_type": "execute_result"
    }
   ],
   "source": [
    "from sklearn.feature_extraction.text import CountVectorizer\n",
    "from nltk.tokenize import TweetTokenizer\n",
    "tknzr = TweetTokenizer()\n",
    "\n",
    "# build analyzers (bag-of-words)\n",
    "BOW = CountVectorizer(analyzer='word', stop_words=None, lowercase=False, tokenizer=tknzr.tokenize)\n",
    "\n",
    "# apply analyzer to training data\n",
    "BOW.fit(train_df['text'])"
   ]
  },
  {
   "cell_type": "code",
   "execution_count": 40,
   "metadata": {},
   "outputs": [
    {
     "data": {
      "text/plain": [
       "1053489"
      ]
     },
     "execution_count": 40,
     "metadata": {},
     "output_type": "execute_result"
    }
   ],
   "source": [
    "len(BOW.get_feature_names())"
   ]
  },
  {
   "cell_type": "markdown",
   "metadata": {},
   "source": [
    "1053489 unique words, if utilize bag of word for classification, the matrix will be really large. (not practical)"
   ]
  },
  {
   "cell_type": "code",
   "execution_count": 36,
   "metadata": {},
   "outputs": [
    {
     "name": "stdout",
     "output_type": "stream",
     "text": [
      "['!', '\"', '#', '###10', '###AAP', '###AGNATHAVASI', '###AMAZING', '###AMAZInG', '###ANNAYA', '###AUS', '###AWESOME', '###Acceptance', '###All', '###Amazing', '###Awesome', '###BELIEVE', '###BLESSED', '###BROKE', '###Blessed', '###CALM', '###COOL', '###Congrats', '###Cute', '###DAYUNGFLEXZY', '###DOWN', '###Diana', '###Dream', '###FAITH', '###FOR', '###Family', '###Fantastic', '###For', '###FreebieFriday', '###Frustrated', '###Glad', '###God', '###Gross', '###HAPPY', '###HUGE', '###Happy', '###Hope', \"###I'm\", '###ILL', '###INDIA', '###IS', '###Is', '###Jesus', '###LOST', '###LOVE', '###LOVe', '###Love', '###Lt', '###ManushiChillar', '###Miss', '###NEWSFLASH', '###Of', '###PL2017', '###PROUD', '###Peace', '###Pray', '###Proud', '###READY', '###SAD', '###SHAME', '###Shame', '###Shutdown', '###Suicidal', '###Surprised', '###THANKS', '###TOOL', '###TRUST', '###Thirsty', '###Thiruvathira', '###USELESS', '###WAITING', '###Waiting', '###Welcome', '###again', '###alone', '###amazing', '###angry', '###anxious', '###app', '###are', '###awesome', '###awful', '###beards', '###beautiful', '###believe', '###better', '###birthday', '###blessed', '###broke', '###candle', '###ccc', '###celebrate', '###chak', '###conflicted', '###content', '###cool']\n"
     ]
    }
   ],
   "source": [
    "print(BOW.get_feature_names()[:100])"
   ]
  },
  {
   "cell_type": "markdown",
   "metadata": {},
   "source": [
    "a lot of '#', which means multiple '#' should also be removed"
   ]
  },
  {
   "cell_type": "markdown",
   "metadata": {},
   "source": [
    "### Clean the data"
   ]
  },
  {
   "cell_type": "markdown",
   "metadata": {},
   "source": [
    "#### removing \\< LH \\>, punctuation,  '#' and '@'"
   ]
  },
  {
   "cell_type": "code",
   "execution_count": 123,
   "metadata": {},
   "outputs": [],
   "source": [
    "import nltk\n",
    "import string\n",
    "from nltk.tokenize import TweetTokenizer\n",
    "tknzr = TweetTokenizer(preserve_case=False)\n",
    "\n",
    "s_word = list(string.punctuation)\n",
    "s_word.append('<lh>') \n",
    "s_word.append('’') \n",
    "s_word = set(s_word)\n",
    "\n",
    "def clean(text):\n",
    "    result = tknzr.tokenize(text)\n",
    "\n",
    "    for i, word in enumerate(result):\n",
    "        temp = word.split('#')        \n",
    "        for w in temp:\n",
    "            if w != '':\n",
    "                result[i] = w\n",
    "        \n",
    "    for i, word in enumerate(result):\n",
    "        temp = word.split('@')\n",
    "        for w in temp:\n",
    "            if w != '':\n",
    "                result[i] = w\n",
    "    \n",
    "    result = [word for word in result if not word in s_word]\n",
    "    result = ' '.join(result)\n",
    "    return result"
   ]
  },
  {
   "cell_type": "code",
   "execution_count": 124,
   "metadata": {},
   "outputs": [
    {
     "name": "stderr",
     "output_type": "stream",
     "text": [
      "progress-bar: 100%|██████████| 1455563/1455563 [03:00<00:00, 8060.40it/s]\n",
      "progress-bar: 100%|██████████| 1455563/1455563 [02:24<00:00, 10092.27it/s]\n",
      "progress-bar: 100%|██████████| 411972/411972 [00:59<00:00, 6933.23it/s]\n",
      "progress-bar: 100%|██████████| 411972/411972 [00:47<00:00, 8688.41it/s]\n"
     ]
    }
   ],
   "source": [
    "train_df['clean_text'] = train_df['text'].progress_apply(lambda x: clean(x))\n",
    "train_df['tokenized'] = train_df['clean_text'].progress_apply(lambda x: tknzr.tokenize(x))\n",
    "test_df['clean_text'] = test_df['text'].progress_apply(lambda x: clean(x))\n",
    "test_df['tokenized'] = test_df['clean_text'].progress_apply(lambda x: tknzr.tokenize(x))"
   ]
  },
  {
   "cell_type": "code",
   "execution_count": 126,
   "metadata": {},
   "outputs": [
    {
     "data": {
      "text/html": [
       "<div>\n",
       "<style scoped>\n",
       "    .dataframe tbody tr th:only-of-type {\n",
       "        vertical-align: middle;\n",
       "    }\n",
       "\n",
       "    .dataframe tbody tr th {\n",
       "        vertical-align: top;\n",
       "    }\n",
       "\n",
       "    .dataframe thead th {\n",
       "        text-align: right;\n",
       "    }\n",
       "</style>\n",
       "<table border=\"1\" class=\"dataframe\">\n",
       "  <thead>\n",
       "    <tr style=\"text-align: right;\">\n",
       "      <th></th>\n",
       "      <th>hashtags</th>\n",
       "      <th>text</th>\n",
       "      <th>tweet_id</th>\n",
       "      <th>emotion</th>\n",
       "      <th>identification</th>\n",
       "      <th>replaceLabel</th>\n",
       "      <th>replaceLabel_tokenized</th>\n",
       "      <th>clean_text</th>\n",
       "      <th>tokenized</th>\n",
       "    </tr>\n",
       "  </thead>\n",
       "  <tbody>\n",
       "    <tr>\n",
       "      <th>0</th>\n",
       "      <td>[Snapchat]</td>\n",
       "      <td>People who post \"add me on #Snapchat\" must be ...</td>\n",
       "      <td>0x376b20</td>\n",
       "      <td>anticipation</td>\n",
       "      <td>train</td>\n",
       "      <td>People who post \"add me on #Snapchat\" must be ...</td>\n",
       "      <td>[People, who, post, \", add, me, on, #Snapchat,...</td>\n",
       "      <td>people who post add me on snapchat must be deh...</td>\n",
       "      <td>[people, who, post, add, me, on, snapchat, mus...</td>\n",
       "    </tr>\n",
       "    <tr>\n",
       "      <th>1</th>\n",
       "      <td>[freepress, TrumpLegacy, CNN]</td>\n",
       "      <td>@brianklaas As we see, Trump is dangerous to #...</td>\n",
       "      <td>0x2d5350</td>\n",
       "      <td>sadness</td>\n",
       "      <td>train</td>\n",
       "      <td>@brianklaas As we see, Trump is dangerous to #...</td>\n",
       "      <td>[@brianklaas, As, we, see, ,, Trump, is, dange...</td>\n",
       "      <td>brianklaas as we see trump is dangerous to fre...</td>\n",
       "      <td>[brianklaas, as, we, see, trump, is, dangerous...</td>\n",
       "    </tr>\n",
       "    <tr>\n",
       "      <th>2</th>\n",
       "      <td>[]</td>\n",
       "      <td>Now ISSA is stalking Tasha 😂😂😂 &lt;LH&gt;</td>\n",
       "      <td>0x1cd5b0</td>\n",
       "      <td>fear</td>\n",
       "      <td>train</td>\n",
       "      <td>Now ISSA is stalking Tasha 😂😂😂 fear</td>\n",
       "      <td>[Now, ISSA, is, stalking, Tasha, 😂, 😂, 😂, fear]</td>\n",
       "      <td>now issa is stalking tasha 😂 😂 😂</td>\n",
       "      <td>[now, issa, is, stalking, tasha, 😂, 😂, 😂]</td>\n",
       "    </tr>\n",
       "    <tr>\n",
       "      <th>3</th>\n",
       "      <td>[authentic, LaughOutLoud]</td>\n",
       "      <td>@RISKshow @TheKevinAllison Thx for the BEST TI...</td>\n",
       "      <td>0x1d755c</td>\n",
       "      <td>joy</td>\n",
       "      <td>train</td>\n",
       "      <td>@RISKshow @TheKevinAllison Thx for the BEST TI...</td>\n",
       "      <td>[@RISKshow, @TheKevinAllison, Thx, for, the, B...</td>\n",
       "      <td>riskshow thekevinallison thx for the best time...</td>\n",
       "      <td>[riskshow, thekevinallison, thx, for, the, bes...</td>\n",
       "    </tr>\n",
       "    <tr>\n",
       "      <th>4</th>\n",
       "      <td>[]</td>\n",
       "      <td>Still waiting on those supplies Liscus. &lt;LH&gt;</td>\n",
       "      <td>0x2c91a8</td>\n",
       "      <td>anticipation</td>\n",
       "      <td>train</td>\n",
       "      <td>Still waiting on those supplies Liscus. antici...</td>\n",
       "      <td>[Still, waiting, on, those, supplies, Liscus, ...</td>\n",
       "      <td>still waiting on those supplies liscus</td>\n",
       "      <td>[still, waiting, on, those, supplies, liscus]</td>\n",
       "    </tr>\n",
       "  </tbody>\n",
       "</table>\n",
       "</div>"
      ],
      "text/plain": [
       "                        hashtags  \\\n",
       "0                     [Snapchat]   \n",
       "1  [freepress, TrumpLegacy, CNN]   \n",
       "2                             []   \n",
       "3      [authentic, LaughOutLoud]   \n",
       "4                             []   \n",
       "\n",
       "                                                text  tweet_id       emotion  \\\n",
       "0  People who post \"add me on #Snapchat\" must be ...  0x376b20  anticipation   \n",
       "1  @brianklaas As we see, Trump is dangerous to #...  0x2d5350       sadness   \n",
       "2                Now ISSA is stalking Tasha 😂😂😂 <LH>  0x1cd5b0          fear   \n",
       "3  @RISKshow @TheKevinAllison Thx for the BEST TI...  0x1d755c           joy   \n",
       "4       Still waiting on those supplies Liscus. <LH>  0x2c91a8  anticipation   \n",
       "\n",
       "  identification                                       replaceLabel  \\\n",
       "0          train  People who post \"add me on #Snapchat\" must be ...   \n",
       "1          train  @brianklaas As we see, Trump is dangerous to #...   \n",
       "2          train                Now ISSA is stalking Tasha 😂😂😂 fear   \n",
       "3          train  @RISKshow @TheKevinAllison Thx for the BEST TI...   \n",
       "4          train  Still waiting on those supplies Liscus. antici...   \n",
       "\n",
       "                              replaceLabel_tokenized  \\\n",
       "0  [People, who, post, \", add, me, on, #Snapchat,...   \n",
       "1  [@brianklaas, As, we, see, ,, Trump, is, dange...   \n",
       "2    [Now, ISSA, is, stalking, Tasha, 😂, 😂, 😂, fear]   \n",
       "3  [@RISKshow, @TheKevinAllison, Thx, for, the, B...   \n",
       "4  [Still, waiting, on, those, supplies, Liscus, ...   \n",
       "\n",
       "                                          clean_text  \\\n",
       "0  people who post add me on snapchat must be deh...   \n",
       "1  brianklaas as we see trump is dangerous to fre...   \n",
       "2                   now issa is stalking tasha 😂 😂 😂   \n",
       "3  riskshow thekevinallison thx for the best time...   \n",
       "4             still waiting on those supplies liscus   \n",
       "\n",
       "                                           tokenized  \n",
       "0  [people, who, post, add, me, on, snapchat, mus...  \n",
       "1  [brianklaas, as, we, see, trump, is, dangerous...  \n",
       "2          [now, issa, is, stalking, tasha, 😂, 😂, 😂]  \n",
       "3  [riskshow, thekevinallison, thx, for, the, bes...  \n",
       "4      [still, waiting, on, those, supplies, liscus]  "
      ]
     },
     "execution_count": 126,
     "metadata": {},
     "output_type": "execute_result"
    }
   ],
   "source": [
    "train_df.head()"
   ]
  },
  {
   "cell_type": "markdown",
   "metadata": {},
   "source": [
    "#### consider words both exist in train and test"
   ]
  },
  {
   "cell_type": "code",
   "execution_count": 127,
   "metadata": {},
   "outputs": [],
   "source": [
    "from collections import Counter\n",
    "\n",
    "def findToken(df):\n",
    "    cnt = Counter()\n",
    "    for text in tqdm(df['tokenized'].values):\n",
    "        if text != '':\n",
    "            cnt.update(text)\n",
    "    tokenized_only_dict = cnt\n",
    "\n",
    "    tokenized_only_df = pd.DataFrame.from_dict(tokenized_only_dict, orient='index')\n",
    "    tokenized_only_df.rename(columns={0: 'count'}, inplace=True)\n",
    "    tokenized_only_df.sort_values('count', ascending=False, inplace=True)\n",
    "    return tokenized_only_df"
   ]
  },
  {
   "cell_type": "code",
   "execution_count": 128,
   "metadata": {},
   "outputs": [
    {
     "name": "stderr",
     "output_type": "stream",
     "text": [
      "100%|██████████| 1455563/1455563 [00:10<00:00, 139409.13it/s]\n",
      "100%|██████████| 411972/411972 [00:03<00:00, 132492.46it/s]\n"
     ]
    },
    {
     "name": "stdout",
     "output_type": "stream",
     "text": [
      "832561\n",
      "299232\n"
     ]
    }
   ],
   "source": [
    "trainToken = findToken(train_df)\n",
    "testToken = findToken(test_df)\n",
    "print(len(trainToken))\n",
    "print(len(testToken))"
   ]
  },
  {
   "cell_type": "code",
   "execution_count": 129,
   "metadata": {},
   "outputs": [],
   "source": [
    "# unique in train\n",
    "s1 = trainToken[~trainToken.index.isin(testToken.index)].index.tolist()\n",
    "# unique in test\n",
    "s2 = testToken[~testToken.index.isin(trainToken.index)].index.tolist()\n",
    "\n",
    "s_word = s1 + s2\n",
    "s_word.append('')\n",
    "s_word = set(s_word)\n",
    "\n",
    "del trainToken\n",
    "del testToken"
   ]
  },
  {
   "cell_type": "code",
   "execution_count": 132,
   "metadata": {},
   "outputs": [
    {
     "name": "stderr",
     "output_type": "stream",
     "text": [
      "progress-bar: 100%|██████████| 1455563/1455563 [00:06<00:00, 213641.40it/s]\n",
      "progress-bar: 100%|██████████| 411972/411972 [00:02<00:00, 186980.14it/s]\n",
      "progress-bar: 100%|██████████| 1455563/1455563 [00:04<00:00, 310984.59it/s]\n",
      "progress-bar: 100%|██████████| 411972/411972 [00:01<00:00, 274825.09it/s]\n"
     ]
    }
   ],
   "source": [
    "train_df['clean_text'] = train_df['tokenized'].progress_apply(\n",
    "    lambda x: ' '.join([item for item in x if item not in s_word]))\n",
    "\n",
    "test_df['clean_text'] = test_df['tokenized'].progress_apply(\n",
    "    lambda x: ' '.join([item for item in x if item not in s_word]))\n",
    "\n",
    "train_df['tokenized'] = train_df['clean_text'].progress_apply(lambda x: x.split(' '))\n",
    "test_df['tokenized'] = test_df['clean_text'].progress_apply(lambda x: x.split(' '))"
   ]
  },
  {
   "cell_type": "code",
   "execution_count": 134,
   "metadata": {},
   "outputs": [
    {
     "name": "stderr",
     "output_type": "stream",
     "text": [
      "100%|██████████| 1455563/1455563 [00:09<00:00, 148142.70it/s]\n",
      "100%|██████████| 411972/411972 [00:03<00:00, 135360.59it/s]\n"
     ]
    },
    {
     "name": "stdout",
     "output_type": "stream",
     "text": [
      "154220\n",
      "154220\n"
     ]
    }
   ],
   "source": [
    "trainToken = findToken(train_df)\n",
    "testToken = findToken(test_df)\n",
    "print(len(trainToken))\n",
    "print(len(testToken))"
   ]
  },
  {
   "cell_type": "markdown",
   "metadata": {},
   "source": [
    "#### remove conjunctions"
   ]
  },
  {
   "cell_type": "code",
   "execution_count": 140,
   "metadata": {},
   "outputs": [
    {
     "name": "stderr",
     "output_type": "stream",
     "text": [
      "100%|██████████| 1455563/1455563 [00:08<00:00, 166730.95it/s]\n"
     ]
    }
   ],
   "source": [
    "trainToken = findToken(train_df)\n",
    "trainToken = trainToken.drop([''])"
   ]
  },
  {
   "cell_type": "code",
   "execution_count": 141,
   "metadata": {},
   "outputs": [],
   "source": [
    "import nltk\n",
    "\n",
    "def findRedundant():\n",
    "    result = []\n",
    "    tags = nltk.pos_tag(trainToken.index.tolist())\n",
    "    for tag in tags:\n",
    "        if (tag[1] == 'DT' or\n",
    "            tag[1] == 'TO' or\n",
    "            tag[1] == 'PRP' or\n",
    "            tag[1] == 'IN' or \n",
    "            tag[1] == 'PRP$' or\n",
    "            tag[1] == 'CC' or\n",
    "            tag[1] == 'CD' or\n",
    "            tag[1] == ':'):               \n",
    "            result.append(tag[0])\n",
    "    return result"
   ]
  },
  {
   "cell_type": "code",
   "execution_count": 142,
   "metadata": {},
   "outputs": [
    {
     "name": "stdout",
     "output_type": "stream",
     "text": [
      "1424\n"
     ]
    }
   ],
   "source": [
    "re = findRedundant()\n",
    "print(len(re))\n",
    "re = set(re)"
   ]
  },
  {
   "cell_type": "code",
   "execution_count": 143,
   "metadata": {},
   "outputs": [
    {
     "name": "stderr",
     "output_type": "stream",
     "text": [
      "progress-bar: 100%|██████████| 1455563/1455563 [00:05<00:00, 290171.71it/s]\n",
      "progress-bar: 100%|██████████| 411972/411972 [00:01<00:00, 235061.90it/s]\n",
      "progress-bar: 100%|██████████| 1455563/1455563 [00:04<00:00, 360359.82it/s]\n",
      "progress-bar: 100%|██████████| 411972/411972 [00:05<00:00, 79352.35it/s] \n"
     ]
    }
   ],
   "source": [
    "train_df['clean_text'] = train_df['tokenized'].progress_apply(\n",
    "    lambda x: ' '.join([item for item in x if item not in re]))\n",
    "\n",
    "test_df['clean_text'] = test_df['tokenized'].progress_apply(\n",
    "    lambda x: ' '.join([item for item in x if item not in re]))\n",
    "\n",
    "train_df['tokenized'] = train_df['clean_text'].progress_apply(lambda x: x.split(' '))\n",
    "test_df['tokenized'] = test_df['clean_text'].progress_apply(lambda x: x.split(' '))"
   ]
  },
  {
   "cell_type": "code",
   "execution_count": 144,
   "metadata": {},
   "outputs": [],
   "source": [
    "train_df.to_pickle(\"./PickleTrainTestSet/train_df_clean.pkl\")\n",
    "test_df.to_pickle(\"./PickleTrainTestSet/test_df_clean.pkl\")"
   ]
  },
  {
   "cell_type": "markdown",
   "metadata": {},
   "source": [
    "### Feature Engineering"
   ]
  },
  {
   "cell_type": "code",
   "execution_count": 1,
   "metadata": {},
   "outputs": [],
   "source": [
    "import pandas as pd\n",
    "\n",
    "train_df = pd.read_pickle(\"./PickleTrainTestSet/train_df_clean.pkl\")\n",
    "test_df = pd.read_pickle(\"./PickleTrainTestSet/test_df_clean.pkl\")"
   ]
  },
  {
   "cell_type": "markdown",
   "metadata": {},
   "source": [
    "#### BOW"
   ]
  },
  {
   "cell_type": "code",
   "execution_count": 2,
   "metadata": {},
   "outputs": [
    {
     "data": {
      "text/plain": [
       "CountVectorizer(analyzer='word', binary=False, decode_error='strict',\n",
       "        dtype=<class 'numpy.int64'>, encoding='utf-8', input='content',\n",
       "        lowercase=True, max_df=0.8, max_features=3000, min_df=1,\n",
       "        ngram_range=(1, 1), preprocessor=None, stop_words=None,\n",
       "        strip_accents=None, token_pattern='(?u)\\\\b\\\\w\\\\w+\\\\b',\n",
       "        tokenizer=<bound method TweetTokenizer.tokenize of <nltk.tokenize.casual.TweetTokenizer object at 0x7f8d2b80bd30>>,\n",
       "        vocabulary=None)"
      ]
     },
     "execution_count": 2,
     "metadata": {},
     "output_type": "execute_result"
    }
   ],
   "source": [
    "from sklearn.feature_extraction.text import CountVectorizer\n",
    "from nltk.tokenize import TweetTokenizer\n",
    "tknzr = TweetTokenizer()\n",
    "\n",
    "# build analyzers (bag-of-words)\n",
    "BOW = CountVectorizer(analyzer='word', max_features=3000, max_df=0.8, tokenizer=tknzr.tokenize)\n",
    "\n",
    "# apply analyzer to training data\n",
    "BOW.fit(train_df['clean_text'])"
   ]
  },
  {
   "cell_type": "code",
   "execution_count": 3,
   "metadata": {},
   "outputs": [],
   "source": [
    "BOW_train = BOW.transform(train_df['clean_text'])"
   ]
  },
  {
   "cell_type": "markdown",
   "metadata": {},
   "source": [
    "#### w2v"
   ]
  },
  {
   "cell_type": "code",
   "execution_count": 4,
   "metadata": {},
   "outputs": [
    {
     "data": {
      "text/plain": [
       "array([list(['people', 'who', 'post', 'add', 'snapchat', 'must', 'be', 'dehydrated', 'cuz', 'man', \"that's\"]),\n",
       "       list(['brianklaas', 'see', 'trump', 'is', 'dangerous', 'freepress', 'around', 'world', 'what', 'cnn']),\n",
       "       list(['now', 'issa', 'is', 'stalking', 'tasha', '😂', '😂', '😂'])],\n",
       "      dtype=object)"
      ]
     },
     "execution_count": 4,
     "metadata": {},
     "output_type": "execute_result"
    }
   ],
   "source": [
    "training_corpus = train_df['tokenized'].values\n",
    "training_corpus[:3]"
   ]
  },
  {
   "cell_type": "code",
   "execution_count": 5,
   "metadata": {},
   "outputs": [],
   "source": [
    "import gensim\n",
    "from gensim.models import Word2Vec\n",
    "\n",
    "## setting\n",
    "vector_dim = 50\n",
    "window_size = 5\n",
    "min_count = 1\n",
    "training_iter = 20\n",
    "\n",
    "## model\n",
    "word2vec_model = Word2Vec(sentences=training_corpus, \n",
    "                          size=vector_dim, window=window_size,\n",
    "                          min_count=min_count, iter=training_iter)"
   ]
  },
  {
   "cell_type": "code",
   "execution_count": 6,
   "metadata": {},
   "outputs": [
    {
     "name": "stderr",
     "output_type": "stream",
     "text": [
      "100%|██████████| 1455563/1455563 [04:36<00:00, 5260.32it/s]\n"
     ]
    }
   ],
   "source": [
    "import numpy as np\n",
    "from tqdm import tqdm\n",
    "tqdm.pandas(desc = \"progress-bar\")\n",
    "\n",
    "w2v_train = np.array([np.mean([word2vec_model.wv[w] for w in words if w in word2vec_model.wv] or \n",
    "                  [np.zeros(vector_dim)], axis=0) for words in tqdm(train_df.clean_text)\n",
    "         ])"
   ]
  },
  {
   "cell_type": "markdown",
   "metadata": {},
   "source": [
    "#### glove"
   ]
  },
  {
   "cell_type": "code",
   "execution_count": 7,
   "metadata": {},
   "outputs": [
    {
     "name": "stdout",
     "output_type": "stream",
     "text": [
      "Found 1193514 word vectors.\n"
     ]
    }
   ],
   "source": [
    "embeddings_index = dict();\n",
    "with open('glove.twitter.27B.50d.txt','r', encoding='utf-8') as f:\n",
    "    for line in f:\n",
    "        values = line.split();\n",
    "        word = values[0];\n",
    "        coefs = np.asarray(values[1:], dtype='float32');\n",
    "        embeddings_index[word] = coefs;\n",
    "print('Found %s word vectors.' % len(embeddings_index))"
   ]
  },
  {
   "cell_type": "code",
   "execution_count": 8,
   "metadata": {},
   "outputs": [
    {
     "name": "stderr",
     "output_type": "stream",
     "text": [
      "100%|██████████| 1455563/1455563 [01:37<00:00, 14972.68it/s]\n"
     ]
    }
   ],
   "source": [
    "glove_train = np.array([np.mean([embeddings_index[w] for w in words if w in embeddings_index] or \n",
    "                  [np.zeros(vector_dim)], axis=0) for words in tqdm(train_df.clean_text)\n",
    "         ])"
   ]
  },
  {
   "cell_type": "markdown",
   "metadata": {},
   "source": [
    "#### w2v & TFIDF"
   ]
  },
  {
   "cell_type": "code",
   "execution_count": null,
   "metadata": {},
   "outputs": [],
   "source": [
    "from sklearn.feature_extraction.text import TfidfVectorizer\n",
    "from nltk.tokenize import TweetTokenizer\n",
    "tknzr = TweetTokenizer()\n",
    "\n",
    "# build analyzers (bag-of-words)\n",
    "TFID = TfidfVectorizer(analyzer='word', stop_words=None, lowercase=False, tokenizer=tknzr.tokenize)\n",
    "\n",
    "# apply analyzer to training data\n",
    "TFID.fit(train_df['clean_text'])"
   ]
  },
  {
   "cell_type": "code",
   "execution_count": 157,
   "metadata": {},
   "outputs": [
    {
     "name": "stderr",
     "output_type": "stream",
     "text": [
      "  0%|          | 2128/1455563 [01:49<19:41:20, 20.51it/s]"
     ]
    },
    {
     "ename": "KeyboardInterrupt",
     "evalue": "",
     "output_type": "error",
     "traceback": [
      "\u001b[0;31m---------------------------------------------------------------------------\u001b[0m",
      "\u001b[0;31mKeyboardInterrupt\u001b[0m                         Traceback (most recent call last)",
      "\u001b[0;32m<ipython-input-157-b519b7f3d976>\u001b[0m in \u001b[0;36m<module>\u001b[0;34m\u001b[0m\n\u001b[1;32m      1\u001b[0m w2v_train = np.array([np.mean([word2vec_model.wv[w] * TFID.idf_[TFID.vocabulary_[w]] for w in words if w in word2vec_model.wv] or \n\u001b[0;32m----> 2\u001b[0;31m                   [np.zeros(vector_dim)], axis=0) for words in tqdm(train_df.clean_text)\n\u001b[0m\u001b[1;32m      3\u001b[0m          ])\n",
      "\u001b[0;32m<ipython-input-157-b519b7f3d976>\u001b[0m in \u001b[0;36m<listcomp>\u001b[0;34m(.0)\u001b[0m\n\u001b[1;32m      1\u001b[0m w2v_train = np.array([np.mean([word2vec_model.wv[w] * TFID.idf_[TFID.vocabulary_[w]] for w in words if w in word2vec_model.wv] or \n\u001b[0;32m----> 2\u001b[0;31m                   [np.zeros(vector_dim)], axis=0) for words in tqdm(train_df.clean_text)\n\u001b[0m\u001b[1;32m      3\u001b[0m          ])\n",
      "\u001b[0;32m<ipython-input-157-b519b7f3d976>\u001b[0m in \u001b[0;36m<listcomp>\u001b[0;34m(.0)\u001b[0m\n\u001b[0;32m----> 1\u001b[0;31m w2v_train = np.array([np.mean([word2vec_model.wv[w] * TFID.idf_[TFID.vocabulary_[w]] for w in words if w in word2vec_model.wv] or \n\u001b[0m\u001b[1;32m      2\u001b[0m                   [np.zeros(vector_dim)], axis=0) for words in tqdm(train_df.clean_text)\n\u001b[1;32m      3\u001b[0m          ])\n",
      "\u001b[0;32m~/anaconda3/envs/NTHU_DataMining/lib/python3.6/site-packages/sklearn/feature_extraction/text.py\u001b[0m in \u001b[0;36midf_\u001b[0;34m(self)\u001b[0m\n\u001b[1;32m   1528\u001b[0m     \u001b[0;34m@\u001b[0m\u001b[0mproperty\u001b[0m\u001b[0;34m\u001b[0m\u001b[0m\n\u001b[1;32m   1529\u001b[0m     \u001b[0;32mdef\u001b[0m \u001b[0midf_\u001b[0m\u001b[0;34m(\u001b[0m\u001b[0mself\u001b[0m\u001b[0;34m)\u001b[0m\u001b[0;34m:\u001b[0m\u001b[0;34m\u001b[0m\u001b[0m\n\u001b[0;32m-> 1530\u001b[0;31m         \u001b[0;32mreturn\u001b[0m \u001b[0mself\u001b[0m\u001b[0;34m.\u001b[0m\u001b[0m_tfidf\u001b[0m\u001b[0;34m.\u001b[0m\u001b[0midf_\u001b[0m\u001b[0;34m\u001b[0m\u001b[0m\n\u001b[0m\u001b[1;32m   1531\u001b[0m \u001b[0;34m\u001b[0m\u001b[0m\n\u001b[1;32m   1532\u001b[0m     \u001b[0;34m@\u001b[0m\u001b[0midf_\u001b[0m\u001b[0;34m.\u001b[0m\u001b[0msetter\u001b[0m\u001b[0;34m\u001b[0m\u001b[0m\n",
      "\u001b[0;32m~/anaconda3/envs/NTHU_DataMining/lib/python3.6/site-packages/sklearn/feature_extraction/text.py\u001b[0m in \u001b[0;36midf_\u001b[0;34m(self)\u001b[0m\n\u001b[1;32m   1274\u001b[0m         \u001b[0;31m# if _idf_diag is not set, this will raise an attribute error,\u001b[0m\u001b[0;34m\u001b[0m\u001b[0;34m\u001b[0m\u001b[0m\n\u001b[1;32m   1275\u001b[0m         \u001b[0;31m# which means hasattr(self, \"idf_\") is False\u001b[0m\u001b[0;34m\u001b[0m\u001b[0;34m\u001b[0m\u001b[0m\n\u001b[0;32m-> 1276\u001b[0;31m         \u001b[0;32mreturn\u001b[0m \u001b[0mnp\u001b[0m\u001b[0;34m.\u001b[0m\u001b[0mravel\u001b[0m\u001b[0;34m(\u001b[0m\u001b[0mself\u001b[0m\u001b[0;34m.\u001b[0m\u001b[0m_idf_diag\u001b[0m\u001b[0;34m.\u001b[0m\u001b[0msum\u001b[0m\u001b[0;34m(\u001b[0m\u001b[0maxis\u001b[0m\u001b[0;34m=\u001b[0m\u001b[0;36m0\u001b[0m\u001b[0;34m)\u001b[0m\u001b[0;34m)\u001b[0m\u001b[0;34m\u001b[0m\u001b[0m\n\u001b[0m\u001b[1;32m   1277\u001b[0m \u001b[0;34m\u001b[0m\u001b[0m\n\u001b[1;32m   1278\u001b[0m     \u001b[0;34m@\u001b[0m\u001b[0midf_\u001b[0m\u001b[0;34m.\u001b[0m\u001b[0msetter\u001b[0m\u001b[0;34m\u001b[0m\u001b[0m\n",
      "\u001b[0;32m~/anaconda3/envs/NTHU_DataMining/lib/python3.6/site-packages/scipy/sparse/compressed.py\u001b[0m in \u001b[0;36msum\u001b[0;34m(self, axis, dtype, out)\u001b[0m\n\u001b[1;32m    593\u001b[0m         \u001b[0;31m# is in {None, -1, 0, 1}\u001b[0m\u001b[0;34m\u001b[0m\u001b[0;34m\u001b[0m\u001b[0m\n\u001b[1;32m    594\u001b[0m         \u001b[0;32melse\u001b[0m\u001b[0;34m:\u001b[0m\u001b[0;34m\u001b[0m\u001b[0m\n\u001b[0;32m--> 595\u001b[0;31m             \u001b[0;32mreturn\u001b[0m \u001b[0mspmatrix\u001b[0m\u001b[0;34m.\u001b[0m\u001b[0msum\u001b[0m\u001b[0;34m(\u001b[0m\u001b[0mself\u001b[0m\u001b[0;34m,\u001b[0m \u001b[0maxis\u001b[0m\u001b[0;34m=\u001b[0m\u001b[0maxis\u001b[0m\u001b[0;34m,\u001b[0m \u001b[0mdtype\u001b[0m\u001b[0;34m=\u001b[0m\u001b[0mdtype\u001b[0m\u001b[0;34m,\u001b[0m \u001b[0mout\u001b[0m\u001b[0;34m=\u001b[0m\u001b[0mout\u001b[0m\u001b[0;34m)\u001b[0m\u001b[0;34m\u001b[0m\u001b[0m\n\u001b[0m\u001b[1;32m    596\u001b[0m \u001b[0;34m\u001b[0m\u001b[0m\n\u001b[1;32m    597\u001b[0m     \u001b[0msum\u001b[0m\u001b[0;34m.\u001b[0m\u001b[0m__doc__\u001b[0m \u001b[0;34m=\u001b[0m \u001b[0mspmatrix\u001b[0m\u001b[0;34m.\u001b[0m\u001b[0msum\u001b[0m\u001b[0;34m.\u001b[0m\u001b[0m__doc__\u001b[0m\u001b[0;34m\u001b[0m\u001b[0m\n",
      "\u001b[0;32m~/anaconda3/envs/NTHU_DataMining/lib/python3.6/site-packages/scipy/sparse/base.py\u001b[0m in \u001b[0;36msum\u001b[0;34m(self, axis, dtype, out)\u001b[0m\n\u001b[1;32m   1009\u001b[0m             \u001b[0;31m# sum over columns\u001b[0m\u001b[0;34m\u001b[0m\u001b[0;34m\u001b[0m\u001b[0m\n\u001b[1;32m   1010\u001b[0m             ret = np.asmatrix(np.ones(\n\u001b[0;32m-> 1011\u001b[0;31m                 (1, m), dtype=res_dtype)) * self\n\u001b[0m\u001b[1;32m   1012\u001b[0m         \u001b[0;32melse\u001b[0m\u001b[0;34m:\u001b[0m\u001b[0;34m\u001b[0m\u001b[0m\n\u001b[1;32m   1013\u001b[0m             \u001b[0;31m# sum over rows\u001b[0m\u001b[0;34m\u001b[0m\u001b[0;34m\u001b[0m\u001b[0m\n",
      "\u001b[0;32m~/anaconda3/envs/NTHU_DataMining/lib/python3.6/site-packages/scipy/sparse/base.py\u001b[0m in \u001b[0;36m__rmul__\u001b[0;34m(self, other)\u001b[0m\n\u001b[1;32m    547\u001b[0m             \u001b[0;32mexcept\u001b[0m \u001b[0mAttributeError\u001b[0m\u001b[0;34m:\u001b[0m\u001b[0;34m\u001b[0m\u001b[0m\n\u001b[1;32m    548\u001b[0m                 \u001b[0mtr\u001b[0m \u001b[0;34m=\u001b[0m \u001b[0mnp\u001b[0m\u001b[0;34m.\u001b[0m\u001b[0masarray\u001b[0m\u001b[0;34m(\u001b[0m\u001b[0mother\u001b[0m\u001b[0;34m)\u001b[0m\u001b[0;34m.\u001b[0m\u001b[0mtranspose\u001b[0m\u001b[0;34m(\u001b[0m\u001b[0;34m)\u001b[0m\u001b[0;34m\u001b[0m\u001b[0m\n\u001b[0;32m--> 549\u001b[0;31m             \u001b[0;32mreturn\u001b[0m \u001b[0;34m(\u001b[0m\u001b[0mself\u001b[0m\u001b[0;34m.\u001b[0m\u001b[0mtranspose\u001b[0m\u001b[0;34m(\u001b[0m\u001b[0;34m)\u001b[0m \u001b[0;34m*\u001b[0m \u001b[0mtr\u001b[0m\u001b[0;34m)\u001b[0m\u001b[0;34m.\u001b[0m\u001b[0mtranspose\u001b[0m\u001b[0;34m(\u001b[0m\u001b[0;34m)\u001b[0m\u001b[0;34m\u001b[0m\u001b[0m\n\u001b[0m\u001b[1;32m    550\u001b[0m \u001b[0;34m\u001b[0m\u001b[0m\n\u001b[1;32m    551\u001b[0m     \u001b[0;31m#####################################\u001b[0m\u001b[0;34m\u001b[0m\u001b[0;34m\u001b[0m\u001b[0m\n",
      "\u001b[0;32m~/anaconda3/envs/NTHU_DataMining/lib/python3.6/site-packages/scipy/sparse/base.py\u001b[0m in \u001b[0;36m__mul__\u001b[0;34m(self, other)\u001b[0m\n\u001b[1;32m    497\u001b[0m                 \u001b[0;32mraise\u001b[0m \u001b[0mValueError\u001b[0m\u001b[0;34m(\u001b[0m\u001b[0;34m'dimension mismatch'\u001b[0m\u001b[0;34m)\u001b[0m\u001b[0;34m\u001b[0m\u001b[0m\n\u001b[1;32m    498\u001b[0m \u001b[0;34m\u001b[0m\u001b[0m\n\u001b[0;32m--> 499\u001b[0;31m             \u001b[0mresult\u001b[0m \u001b[0;34m=\u001b[0m \u001b[0mself\u001b[0m\u001b[0;34m.\u001b[0m\u001b[0m_mul_vector\u001b[0m\u001b[0;34m(\u001b[0m\u001b[0mnp\u001b[0m\u001b[0;34m.\u001b[0m\u001b[0mravel\u001b[0m\u001b[0;34m(\u001b[0m\u001b[0mother\u001b[0m\u001b[0;34m)\u001b[0m\u001b[0;34m)\u001b[0m\u001b[0;34m\u001b[0m\u001b[0m\n\u001b[0m\u001b[1;32m    500\u001b[0m \u001b[0;34m\u001b[0m\u001b[0m\n\u001b[1;32m    501\u001b[0m             \u001b[0;32mif\u001b[0m \u001b[0misinstance\u001b[0m\u001b[0;34m(\u001b[0m\u001b[0mother\u001b[0m\u001b[0;34m,\u001b[0m \u001b[0mnp\u001b[0m\u001b[0;34m.\u001b[0m\u001b[0mmatrix\u001b[0m\u001b[0;34m)\u001b[0m\u001b[0;34m:\u001b[0m\u001b[0;34m\u001b[0m\u001b[0m\n",
      "\u001b[0;32m~/anaconda3/envs/NTHU_DataMining/lib/python3.6/site-packages/scipy/sparse/compressed.py\u001b[0m in \u001b[0;36m_mul_vector\u001b[0;34m(self, other)\u001b[0m\n\u001b[1;32m    454\u001b[0m         \u001b[0;31m# output array\u001b[0m\u001b[0;34m\u001b[0m\u001b[0;34m\u001b[0m\u001b[0m\n\u001b[1;32m    455\u001b[0m         result = np.zeros(M, dtype=upcast_char(self.dtype.char,\n\u001b[0;32m--> 456\u001b[0;31m                                                other.dtype.char))\n\u001b[0m\u001b[1;32m    457\u001b[0m \u001b[0;34m\u001b[0m\u001b[0m\n\u001b[1;32m    458\u001b[0m         \u001b[0;31m# csr_matvec or csc_matvec\u001b[0m\u001b[0;34m\u001b[0m\u001b[0;34m\u001b[0m\u001b[0m\n",
      "\u001b[0;31mKeyboardInterrupt\u001b[0m: "
     ]
    }
   ],
   "source": [
    "w2v_train = np.array([np.mean([word2vec_model.wv[w] * TFID.idf_[TFID.vocabulary_[w]] for w in words if w in word2vec_model.wv] or \n",
    "                  [np.zeros(vector_dim)], axis=0) for words in tqdm(train_df.clean_text)\n",
    "         ])"
   ]
  },
  {
   "cell_type": "markdown",
   "metadata": {},
   "source": [
    "Sorry, run out of time, not going to produce it again : ("
   ]
  },
  {
   "cell_type": "markdown",
   "metadata": {},
   "source": [
    "#### word embedding & w2v"
   ]
  },
  {
   "cell_type": "markdown",
   "metadata": {},
   "source": [
    "```python\n",
    "# first, find out the maximum length of sentence which is proper to use\n",
    "```"
   ]
  },
  {
   "cell_type": "code",
   "execution_count": 158,
   "metadata": {},
   "outputs": [
    {
     "data": {
      "text/plain": [
       "<matplotlib.axes._subplots.AxesSubplot at 0x7f18ec8b0358>"
      ]
     },
     "execution_count": 158,
     "metadata": {},
     "output_type": "execute_result"
    },
    {
     "data": {
      "image/png": "[encoded data removed]",
      "text/plain": [
       "<Figure size 1080x432 with 1 Axes>"
      ]
     },
     "metadata": {
      "needs_background": "light"
     },
     "output_type": "display_data"
    }
   ],
   "source": [
    "document_lengths = np.array(list(map(len, train_df.clean_text.str.split(' '))))\n",
    "\n",
    "fig, ax = plt.subplots(figsize=(15,6))\n",
    "ax.set_title(\"Distribution of number of words\", fontsize=16)\n",
    "ax.set_xlabel(\"Number of words\")\n",
    "sns.distplot(document_lengths, bins=50, ax=ax)"
   ]
  },
  {
   "cell_type": "markdown",
   "metadata": {},
   "source": [
    "```python\n",
    "# padding for word embedding\n",
    "```"
   ]
  },
  {
   "cell_type": "code",
   "execution_count": 16,
   "metadata": {},
   "outputs": [],
   "source": [
    "from keras.preprocessing.text import Tokenizer\n",
    "from keras.preprocessing.sequence import pad_sequences\n",
    "\n",
    "MAX_SEQUENCE_LENGTH = 20\n",
    "\n",
    "tokenizer = Tokenizer()\n",
    "tokenizer.fit_on_texts(train_df['clean_text'])\n",
    "sequences = tokenizer.texts_to_sequences(train_df['clean_text'])\n",
    "\n",
    "word_index = tokenizer.word_index\n",
    "\n",
    "wordEmbedding_w2v_train = pad_sequences(sequences, maxlen=MAX_SEQUENCE_LENGTH)"
   ]
  },
  {
   "cell_type": "markdown",
   "metadata": {},
   "source": [
    "```python\n",
    "# form embedding matrix (w2v)\n",
    "```"
   ]
  },
  {
   "cell_type": "code",
   "execution_count": 17,
   "metadata": {},
   "outputs": [
    {
     "name": "stderr",
     "output_type": "stream",
     "text": [
      "100%|██████████| 137679/137679 [00:00<00:00, 156149.00it/s]\n"
     ]
    }
   ],
   "source": [
    "embedding_matrix = np.zeros((len(word_index) + 1, vector_dim))\n",
    "missingWord = []\n",
    "for word, i in tqdm(word_index.items()):\n",
    "    try:\n",
    "        embedding_vector = word2vec_model.wv[word]\n",
    "        if embedding_vector is not None:\n",
    "            embedding_matrix[i] = embedding_vector\n",
    "    except:\n",
    "        missingWord.append(word)"
   ]
  },
  {
   "cell_type": "code",
   "execution_count": 18,
   "metadata": {},
   "outputs": [
    {
     "data": {
      "text/plain": [
       "2359"
      ]
     },
     "execution_count": 18,
     "metadata": {},
     "output_type": "execute_result"
    }
   ],
   "source": [
    "len(missingWord)"
   ]
  },
  {
   "cell_type": "code",
   "execution_count": 19,
   "metadata": {
    "scrolled": true
   },
   "outputs": [
    {
     "name": "stdout",
     "output_type": "stream",
     "text": [
      "['3', '1', '2', '0', '10', '4', '5', '6', 'in', '7', '8', 'a', 'the', 'anti', '13', '14', '11', 'alyssa', '9', 'all', '12', 'to', '24', '17', '15', '20', '16', 'one', '22', 'mythings', 'livered', 'no', 'off', 'on', '21', '18', 'dvn', '25', 'en', 'offl', '23', 'of', 'us', '30', 'it', 'fadnavis', '2017', '26', 'bighit', 'asli', 'mikel', 'jollett', 'trainsec', '28', 'you', '19', '27', 'until', '0hour1', 'and', 'two', 'minus', 'gauahar', 'makada', '800', 'uki', 'mcmullin', 'wannaone', 'cockerton', 'youngking', 'morake', 'ups', '2018', 'ten', 'الجماعة', 'sacrebleu', '50', 'dominiquep', 'oneplus', 'by', 'bakari', 'blizzard', 'الاحمدية', 'gatto', '34', 'putinrf', '33', 'forever', '40', 'me', 'gregabbott', '45', 'mariotti', 'martintruex', 'hensel', 'mandhana', 'smriti', 'crimminds', 'ravindersingh', 'spicier', 'chastain', 'bomani', 'anna', 'teddyb', 'we', '95', 'yuji', 'kartikeyan', 'realdonad', 'oxchambo', 'blackink', 'bangyongguk', '96', 'for', 'erotik', 'nawazuddin', 'dkarma', '29', 'zamo', 'berti', 'akkineni', 'pallavi', 'disneyparis', 'carrabis', '32', 'nivethathomas', 'theantitrump', 'katya', '77', 'jongup', 'ola', '100', 'hawkey', 'sangita', 'gluck', 'bhuvan', 'cshelp', '85', '37', 'unsilent', 'tressler', 'mutantlog', '273', '8255', 'shapo', '69', 'gemili', 'wldlife', 'its', 'axelrod', '44', 'sirtis', 'charlote', 'giudice', '94', '302', 'nastyy', 'francais', '01', 'clairerichards', 'deanie', 'whistlenut', 'katjones', 'through', 'gadkari', 'milele', '89', '247', 'na', 'chy', '93', 'brown', 'five', 'abj', '38', 'slpng', '99', 'my', 'about', '09', 'jayamravi', 'ileana', '88', \"'d\", 'raif', 'badawi', 'kremlinrussia', 'kennyrogers', '82', 'balan', 'redbus', 'khsaad', 'rafique', 'deej', '101', 'imperator', '54', '07', 'bluebombers', 'alaina', 'harbhajan', '81', 'ameesha', '87', '00', '承', 'her', 'grennan', '2015', '72', 'shehla', 'pchidambaram', 'antonia', 'okafor', 'lilley', 'ravidubey', '41', 'energypeople', 'peterking', 'hauer', '59', 'bft', 'wicks', '86', 'corindia', 'workout', 'asantekotoko', '67', 'between', 'yaabi', 'raborny', '05', '60', 'fedemployee', 'jayrosen', 'neubauer', 'bobcesca', 'babu', 'auclair', 'sjsuryah', 'bye', '35', 'bloodhound', 'yourself', 'brianadejesus', 'tation', 'mallorym', '55', 'peterdutton', 'bajaj', '08', 'boreanaz', 'zone', 'that', 'adeyemi', 'askgst', 'wrshp', 'zollo', 'at', '007', '58', 'fabiano', 'as', 'mather', 'soubry', 'hyland', 'conorprice', '1985', 'raze', 'apso', '91', 'crazyxgf', '97', 'lian', 'taylorhil', '1989', 'chetan', 'four', '98', 'bros', 'they', '76', '0729', '867', '322', '3045', 'mattoverton', 'loveyourself', 'abaga', 'giacchino', '51', '49', 'jamesjordan', 'three', 'nine', 'therac', 'mohan', 'manjima', 'kaye', 'pid', 'karren', 'bigben7', '42', 'oficial', 'pvrcinemas', 'bigbrother', 'fcbc', 'runr', 'maclachlan', 'vogel', 'janson', 'wintergirl93', '36', 'juhi', '74', 'gshore', 'he', 'duplantis', '66', 'ysmn', 'skars', '70', 'massy', 'cassity', 'kritika', 'kamra', '02', 'federalists', 'theaa', 'bbca', '84', 'sfmta', '139', 'dishtv', 'spiers', 'brittini', 'lothianbuses', 'jesscarter', 'nicotortorella', 'surya', 'roshni', '04', 'behind', 'sbicard', 'mazari', 'ucps', 'monroenc', 'fordservice', 'delfi', 'our', 'ball', 'onochin', 'beatking', 'sumedh', 'pepper', 'chijindu', 'ujah', '31', '68', '5591', 'alexs', 'conditt', 'jamiedornan', 'semitism', 'psb', '79', 'with', 'micromax', 'gaethje', 'thore', 'meng', '420', 'tjwatt', 'hga', 'fuzzikins', 'disabledvet', 'vru', '73', 'panos', 'panay', '2016', 'mandyrose', 'jahangir', 'gergen', 'karabo', 'mattertv', 'nhs', 'anz', 'salice', 'roseee', '1943', '777', 'tyldesley', 'casillas', '90', 'namikim', 'dogssk', 'nyakundih', 'jup', 'missanna', 'justkelly', 'nre', 'danelld', 'johnpaul', 'pais', 'nolove', 'sportsdirect', 'uzalo', 'joemanchin', 'nicolette', 'steindl', 'marvi', 'obrian', 'mohfw', 'wwecreative', 'corporal', 'hinn', 'keery', '303', 'ch14', 'bhaiyaa', 'acuedu', 'kxan', 'pib', 'itssavannah', 'mokgoko', 'skb', 'prdsdefsoul', 'burris', 'an', 'stephania', 'pcah', 'wigwam', 'tang', 'resister', 'finserv', 'hoxse', 'kanungo', 'glyde', 'harun', 'yahya', 'traina', 'shockley', 'kearis', 'jba', 'nafw', 'levell', 'itzme', 'kanchi', 'tonyxia', 'rvcj', 'snackz', 'cradd', 'lsudad', 'skycity', 'slumkidd', 'zammit', 'ishabc', 'drjoyce', 'knudsen', 'mizunogolf', '46', 'alexanderstew', 'kidston', 'mraz', 'khoa', '2011', 'laduma', '48', 'hope2017', 'halpern', '47', 'satyarthi', 'politix', '80', 'durand', 'dakotakai', \"je'\", 'alarabiya', 'bigplayslay23', 'kristia', 'sifill', 'ldf', 'trainor', 'angie', 'katebennett', 'ips', 'davez', 'chadwick', 'khalsa', 'bbjoe', 'quaranta', 'adl', 'amarinder', 'arvsgt', 'wayne', 'sargon', 'akkad', 'yogendrayadav', 'kbradio', 'thp', 'tmboog', 'michaelbrooks', 'eurosport', '83', '1988', '1998', 'briardmums', '03', 'nazty', 'mcmoomins', 'rosberg', '1991', 'your', 'ostrov', 'claudi', 'anya', 'shrubsole', 'iimkash', 'ninetyfive', 'zw', 'ygent', 'deborra', '57', '1990', 'but', 'bryan', 'zorn', 'gitanjali', 'brfc', 'fearn', 'ayezakhan', 'stjohn', 'ilike', 'h0t', 'p0ppy', 'if', 'kanak', 'judeo', 'petkanas', 'cingraham', '18673223045', 'believe17', 'oppa', '1122', 'cfj', 'jamey', 'anthony', 'after', 'aliant', '4life', 'piotrowski', 'manon', 'hildebrand', 'gattis', '06', 'bhandari', 'jordanw', 'videocon', 'geeta', 'rithvik', 'vidabella', '105', 'krisp', '2013', 'asher', 'warmington', '71', 'eriqua', 'colwell', 'penske', 'yannick', 'bisson', 'iamerica', 'marston', 'roopa', 'currensy', 'spitta', 'yassmin', 'triplem', 'oliviergiroud', 'bchs', 'girlsoccer', 'zour', 'davidwright', 'yuly', 'lcaf', 'dfid', 'ikeme', 'fayaz', '550', '4900', 'hollman', 'trentfrazier1', 'aldrich', 'glos', 'nelba', 'نواز', 'چور', 'مچائے', 'شور', '321', 'moj', '62', 'sheerin', 'them', 'fujiko', 'wpl', '2014', 'chrisroberts85', 'faw', 'she', 'urdang', 'rayel', 'rubey', 'lcheek', 'gordonxii', 'timmiller', 'ask4pardon', 'queensandy', 'mahindra', 'verbeek', '1776', 'urdips', 'bove', 'demianaditya', 'bankspw', 'thejournal', 'tmjohns', 'shann', 'realayomide', 'dattilo', 'ortambo', 'prasanna', 'favreau', 'saj', 'pakpassion', 'gleb', 'savchenko', 'opt', 'byg', 'tymer', 'this', 'dragun', 'rapunzel', '96kenya', 'jlsl', '3li', 'dfb', 'gurnani', 'espinosa', 'mingo', 'egghater', 'sportsshoes', 'amaka', 'ekwo', 'cleen', 'jjt', 'giannis', 'boardman', 'lobke', 'marsden', 'tooms', 'sabanaqvi', 'ladym', 'carbonaro', 'colston', '224', 'nila', 'stephenadavis', 'dfds', '63', 'simona', 'druckmann', 'garrettmiller', 'along', 'jaiid', 'worldwide', 'goldeyes', 'campanile', 'whinfell', 'tylerl', 'hoechlin', 'inside', 'under', '111', 'echoic', 'jann', 'mcnally', 'guha', 'christemb', 'jeanpierre', '182', 'mumba', 'timpeake', 'derpinator', '1996', 'anlmals', 'calkins', 'joshi', 'mcclain', 'reznor', 'trautman', 'makim', '29110593', 'liano', 'zoocci', 'cokedope', 'hwife', 'mosher', '408', '1973', 'rossell', 'naeemul', 'iod', 'underhill', 'lepage', 'littrell', 'fisherking', 'akat', 'upskirt', 'bre', 'ez4u2say', 'geftman', 'dogfather', 'lewiscox', 'benross', 'akl', 'marimadrid', '1st', 'downgoesfraser', 'njones', 'austan', 'goolsbee', 'zachlowe', 'mundel', 'semira', 'every', 'opcc', 'k1mberley', 'heidil', 'amene', '2ns', 'doucette', 'borough', 'preeti', 'titz', 'encroachment', 'joshyo', 'mccrea', 'cport', 'pallavighosh', 'mccloud', 'mopng', 'eseva', 'or', 'hayu', 'rockyb', 'exupéry', 'trout', 'semite', 'carrasco', 'bai', 'mekus', 'nulius', 'neroli', 'ainsleyyy', 'oz', 'चप', 'blizzardcseu', 'faasos', 'الحمد', 'لله', 'bbcsport', 'ishere', 'heinzketchup', 'showcams', '2020', 'zita', 'fancentral', 'kinghorn', 'healthystep', 'thorn', 'mjf', 'louflynn', '136', '113', 'gertie', 'battista', 'ainley', 'skaro', 'wayans', 'jlm', 'ville', 'giese', 'veezy', '64', 'teampriyank', 'profile', '275', 'meira', 'rvidrine', '엑소', 'jgilliam', 'dayal', 'attenboroughs', 'treisman', 'gartner', 'posen', 'blackstreet', '932', 'uhb', 'dionnewarwick', 'dmn', 'askps', 'dbremer', 'ssdd', 'tulleys', 'lincolncity', 'keesmaat', '202', '3121', 'dovkleiman', 'heraldsun', 'eggold', 'radiocampusavignon', 'jmj', 'agalaviz', 'thebee', 'wajih', 'heaver', '2012', 'nickie', 'glouc', 'landr', 'jami', 'njudah', 'moca', 'roenick', 'rosenfeld', 'kingof', 'ferelden', 'arirang', 'thatchers', 'willcompton', 'demarko', 'statravel', 'amruta', 'molt', 'amazonnews', 'sudhakar', 'og', 'masato', 'bulwer', 'lytton', '116', 'animaladvocate', 'eltitan', 'poonacha', 'anik', 'soxy', 'amberturner', 'bhansaliprod', 'elizabethblue', 'kcc', 'kernow', '911', 'dasovich', 'mdt', 'slaoui', 'ulht', 'shiels', 'wrestletalk', '30x', 'ashleyp', 'costell', 'msf', 'suparna', 'ctravi', 'jimtrotter', 'olajordan', 'montblanc', 'eugenia', 'cooney', 'immatthew', 'globalvip', 'vanie', 'hadas', 'akins', 'eeast', 'hinojosa', 'theaustinbrown', 'kendaluk', 'jamarcus', 'sandip', 'anne', 'mordi', 'flysaa', 'harrold', 'princekaybee', 'tour', 'matheson', '1995', 'tushar', 'izi', 'ende', 'gelaende', 'zollner', 'warne', 'farquer', 'staffford', '1983', 'lcarena', 'pokerstreams', 'plus', 'finglass', 'telesynth', 'cilla', 'craigstanley', 'minkim', 'cnp', \"spir'\", 'nbs', 'themedia', 'hannahcarey', 'gwilli', 'aishu', 'dopelike', '2010', 'mumkey', '1968', 'copperfield', 'prock', 'alphawoman', 'mirrorimage', 'lamayne', 'kubler', 'nard', 'fogelman', 'andraeb', 'kuwonu', 'him', '52', '43', 'teamedge', 'neca', 'muchomba', 'donnax', 'existant', 'fgrfc', 'mandygonzalez', 'tpr', 'rochard', 'gabarros', 'josep', 'lysf', 'cutsw', 'his', 'sdcollins', 'cvillenews', 'randumb', 'jessiet', 'الاحمدیة', 'reddirt', 'newsbreak', 'lemew', 'inurcorner', 'sidharth', 'shukla', 'mafioso', 'frangie', 'ravie', 'devaughn', 'soufan', 'treee', 'umarova', 'near', 'dansheed', 'because', 'mccoydl', '1303', '75', 'hansard', 'stclair', 'twomey', 'fannon', '120', 'payette', 'comalisd', 'mcsorley', 'enhm', 'ehal', 'sharmistha', 'boeree', 'lencare', 'itsa', 'zubina', 'mcfarlane', 'vs', 'aaryn', \"ust'\", 'kamchatsk', 'wegodeep', '877', '764', '2535', '723', 'mariajade', 'cation', 'koopersmith', 'narendramodi', 'filmfatale', '115', '159', 'sanghera', 'pearl', 'nomso', 'uruhiko', 'mydentist', 'rakeshroshan', 'amrit', 'maghera', 'tifft', 'zakali', 'inds', '27516', 'vinesh', 'acr', '39', 'zimms', 'clic', 'samvad', 'keim', 'bsuh', 'yodacat', 'coton', 'luver', 'vaughnbmr', 'obermayer', '411', 'eaforaday', 'ajanaomi', 'nilima', 'alessa', '124', 'fbn', 'nerdin', 'acoolkid', 'amylee', 'pini', 'billiamson', 'justinbicbcr', 'thenhg', 'hamin', 'thorman', 'oneassist', 'chessie', 'whitf', 'eight', 'six', '666', 'hungama', 'midzi', 'realbritt', 'norris', 'alba', 'demolay', '1911', 'jhay', 'omise', 'rmatthews', 'rabutin', 'sabena', 'siddiqi', 'miliband', 'mandle', '1980', 'ldnm', 'smartz', 'booch', 'amelia', 'karras', 'mcskillet', 'stierch', 'aaronboone', 'deanstott', 'zakka', 'scofield', 'fynny', 'plibersek', 'valebarahona', 'shambhala', 'craigrowe', 'sarais', '1994', 'arval', 'randi', 'vonny', 'turek', 'pillay', 'mikiko', 'komatsu', 'uia', '56', 'lawrenceks', 'tommeetippee', 'jungleboi', 'swagg', '1982', 'montes', 'kshitij', 'wendi', 'jaide', 'abril', 'lilcorey', 'tcfc', 'stuckmann', 'quao', 'photoafc', '504', 'frag', 'lander', 'mcgillvary', 'cossins', 'schreiber', 'kovacevic', 'motorwala', 'sarahk', 'vaxxers', 'woodberg', 'pastafagioli', 'hassel', 'etnad', 'olegnad', 'thelucky', 'parkingpal', '1872', '엑스포츠', '전원기자', '사과해', 'wehner', 'paulhayward', 'snozzer', 'teamhina', 'pcrru', 'zette', 'paulaw', 'drewandsam', 'jcr', 'goolia', '003', 'duchovny', 'pukka', 'trotts', 'meck', 'kenzi', 'donky', 'sado', 'sjconsulting', 'zhongwen', 'climatic', 'pochmother', 'per', 'helenahicks', 'sosueme', 'blaque', 'barricko', 'shellbell', 'dte', 'urbaniak', 'jeffreyt', 'mofajapan', 'dcworld', 'endowed', 'نا', 'اہل', 'کا', 'جنازہ', 'willpray', 'mabena', 'spikechunsoft', 'blanka', 'sassyt', 'susannah', 'ofme', 'weiser', 'robison', 'thevati', 'izm', '630', 'ardbeg', 'emergen', '200', 'renown', 'heroux', 'kersey', 'nodb', 'lympstone', 'kovac', 'ensley', 'vickie', 'latha', 'venkatesh', 'lepore', 'सक', 'सरक', 'than', 'wgem', 'abooee', 'brexit', 'scotpilie', 'lacabrona', 'ycee', 'iiss', 'papyrus', 'arq', 'sainduval', 'alexhirsch', 'dineruk', '2009', 'tweetment', 'mcswain', 'jitu', 'vaghani', 'skoberne', 'caulton', 'bonobo', 'rdh', 'lovebani', 'karrie', '1d', 'savidge', 'bonnell', 'twenty8', 'masino', 'freespirited', 'centauro', 'gaboury', 'africanunion', 'flogas', 'sheeo', 'zarina', 'raupova', 'mxb', 'dammn', 'sket', 'yenta', 'worsley', 'carexi', 'bellona', 'haibon', 'dstroyr', 'fuerhoff', 'raags', 'bk', 'franzel', 'beth', 'schlabach', 'jonwood', 'sheninger', 'nborhood', 'georginagee', 'kull', 'hadiqa', 'kiani', '317', 'shinde', 'sefularo', 'keamo', 'rathore', 'milie', 'auliq', 'swla', '400', 'tkmaxx', 'osogbo', 'yha', 'mndf', 'jhulan', 'babul', 'pissvodka', 'blanchflower', '171', '6048878', 'delconte', 'lrbht', 'mmu', 'wcth', 'lekhi', 'häagen', 'dazs', 'twia', 'cmgreer', 'hellmuth', 'shein', 'nighters', 'landg', 'sbn', 'billc', 'nor', 'barratt', 'casas', 'purvi', 'riggo', 'mcgills', 'munirah', 'armytage', 'gtpl', 'hathway', 'bluntsnblondes', 'jsb', 'faust', 'jorussell', 'fiving', 'converters', 'laplace', 'zero', 'cheeti', 'izzie', 'miltonkeynes', 'gyc', 'praful', 'bluejae', 'cronulla', 'kaushiki', 'bhadana', 'yvonneburton', 'zingah', 'lotj', 'miele', 'zelina', 'vegawwe', 'ringgo', 'odpp', 'darton', 'ashleyy', 'amybrown', 'sacbee', 'uden', 'gatordave', 'dailymagic', 'leclerc', 'jakey', 'smales', 'silvercross', 'ruen', 'charlieo', 'goyette', 'delrusso', 'itsmandy', 'shadii', '614', 'dapper', 'pmm', 'csubsoc', 'kgibs', 'itsines', 'messagesof', 'veejay', 'wtcc', 'dirtie12', 'stephenneal', 'spacewitch', 'j30', 'sentido', 'manmohansingh', 'nwamb', 'tmobile', 'webcare', 'hrp', 'policenl', 'before', 'connectsp', 'lisah', 'ehrenreich', 'combrinck', '7191', 'pennystock', 'teegee', 'zucker', 'bzu', 'blaq', 'ariannamarie', 'monceaux', 'ontrac', 'goochland', 'zeusking', 'mydyer', 'llr', 'xles', 'gourmandsx', 'murdo', '613', 'axler', 'thepa', 'evd', 'clyne', 'harrym', '207', 'ryanhannon', 'bridie', 'jayy', 'bugz', 'ashii', 'victoriabi', 'atch', 'helme', 'hadrian', 'mannydiaz', 'nq', 'ormiston', 'gelesann', 'antwon', 'nnp', 'coko', 'mithisa', 'colazw', 'awsat', 'tdrs', 'efeu', 'bluegum', 'dgfire', 'crg', 'ronaldson', 'raval', 'uint', 'ctierney', 'optimistes', 'dsantos', 'ferrin', 'comparemkt', 'diamont', 'marena', 'happyno', 'odleboy', '1923', '1k', 'hlaing', 'iri', 'matheuu', 'cheshirewest', 'eyeglass', 'misspap', 'parov', 'stelar', 'lop', 'felipianos', 'vickery', '1600', 'janeu', 'dhari', 'arkush', 'joev', 'gatorspod', 'magennis', 'fetters', 'jawedhabib', 'emilyann', 'mazz', 'barlyo', 'lunardreams', 'vanouten', 'seanmurphy', '331', 'pfccska', 'wida', 'truckey', 'cradiculous', '0703', 'dbro', 'aschatz', 'mooney', 'colne', 'magna', 'smearle', 'vbc', 'tavleen', 'impemba', 'baqwa', 'xist', 'aoi', 'oniemz', 'kristel', 'yore', 'bankng', 'oburcuk', 'techsource', 'n4rh', 'drl', '205', 'omeara', 'mrscford', 'laxmi', 'hebbalkar', '714', '629', 'ptm', 'juliannemoore', 'sharq', 'hitomi', 'experient', 'bhangra', 'parisien', 'tatanano', 'anand', 'äó', 'kinsman', 'rivermen', 'calmac', 'genacole', 'rejarrett', 'hazing', 'odot', 'streatfood', 'countryclub', 'mcilveen', 'persie', 'sanjeev', 'aap', 'stines', 'myself', 'slowrabbit', 'anthembc', 'anthembcbs', 'snooke', 'bookman', 'mansoor', 'siegie', 'adair', 'allenai', 'npci', 'bhim', 'inthenova', 'cf18demo', 'rcaf', 'opl', 'dawnn', 'alicebeer', 'rybak', 'jarju', 'nguda', '0700', '1730', 'wep', 'caqepepa', 'chc', 'gutteridge', 'bruu', 'truu', 'kudro', 'wardpa', 'marson', 'mujer', '801', 'ehughes', 'kyletucker', 'manno', 'bernard', 'minshew', 'alifrom', 'scotte', 'sweetfeet', 'dearne', 'jiii', 'neilfindlay', 'twatts', 'kidzio', 'ostrowski', 'tenelle', 'shazza', 'sanobar', 'openmike', 'garethg', 'macneil', 'remire', 'montjoly', 'toniann', 'tychkowski', 'obermaier', 'jungtw', 'jim13', 'leland', 'katt', 'زياد', 'دويري', 'honig', 'brillo', 'cambrian', 'haswell', 'dougfarrar', 'ohyea', 'i7i', 'matthewboomin', 'mullin', 'naelaa', 'macquarie', 'thtr', 'helentt', 'rndc', 'salie', 'jamfish', 'jc5', '4lyfee', 'atvs', 'paulcrewe', 'pitter', 'beaudoin', '149', 'gmai', '193', '0611', 'jia', 'haskel', 'gamelyn', 'vaper', 'bamford', 'ruddlez', 'southafric', 'shaughnessy', 'alicebid', 'xaba', 'jimmya', 'willard', 'wetherspoon', 'ihuman', 'zoul', 'jadeealice', 'ilse', 'gerbils', 'disordertnc', 'burd', 'polsky', 'pfeifer', 'wilcock', 'glbc', 'mcps', 'mgreen', 'ep8', 'madddie', 'shaunj', 'bouchard', 'toddhoffman', 'calistud', 'gallagherad', 'jamesr', 'chisholm', 'timm', '24x7', 'jacopo', 'jmw', 'pispeak', 'referential', 'tohope', '55main', 'edyn', 'sammyj', '260', 'citb', 'healthedeng', 'playtogether', 'ashland', '968', 'demar', 'derozan', 'byufan', 'bhatia', 'niraj', 'pas', 'kitchenaid', 'tekzone', 'mcghee', 'mitzi', 'wilf', 'sunshinedizon', 'kiley', 'mq', 'simplyasia', 'azza', 'ddss', 'wchxiii', 'lazerbeam', 'cynthiaa10', 'whyzguy', 'demystify', 'franzen', 'kenedy', 'geruzzi', 'hafsha', 'alderson', 'cleartax', 'past', 'arend', 'lillis', 'leica', 'masoud', 'dalvand', 'gconley8', 'bonj', 'seven', 'ljb', '330', 'msandoval', 'poetproject', 'wilkin', 'dailey', 'custcare', 'gleason', 'tiyani', 'rodrigueziii', 'mjwith', 'theflu', 'gotr', 'iamjoshm', '옹성우', '생일축하해', '313', 'brittle', 'airaksinen', 'currah', 'knepper', 'lunt', 'tbtimes', 'maysports', 'leary', 'palooza', 'lcdc', 'mwyd', 'cindie', 'sticksnsushi', 'secrt', 'bunnygirl', 'aakash', 'deana', 'wardy', 'xokal', 'eigh', 'katehandford', 'mimansa', 'socialworks', 'भग', 'बच', '1992', 'clauson', 'hiaasen', 'reenie', 'sophieg', 'million', 'twfrs', '108', 'amelio', 'ibne', 'colis', 'prive', 'harderson', 'eads', 'badassbronco', 'vickylasha', 'missjo', 'mdakani', 'hcpss', 'omhs', 'littler', 'snell', 'beacham', 'steinberg', 'vickysingh', 'neilzone', 'lipped', 'edholm', 'gomezrod', 'juliastuart', 'adex', '1874', 'nerny', 'paycare', '2706', 'bigred', 'delib', 'raji', 'shaat', 'adebayor', 'morplan', 'likean', 'digitalpol', 'purvis', 'winovich', 'denisehardy', 'croawell', 'castell', 'milind', 'rau', 'michellelaw', 'tanda', '014', 'ndls', 'hwh', 'knaq', '225', 'farmaajo', 'mccurdy', 'mcbride', 'omar', 'wcps', 'rsdc', 'karwan', \"mart's\", 'dtb895vwfj', 'sgom7v3q', 'markbooth', 'nycfc', 'drmwat', 'ecor', 'maruchan', 'liyer', 'ncarlson', 'jpgirl', 'acx', 'recedavis', 'litl', 'microbit', 'tehh', 'druh', 'ilovemyself', 'fortyfive', 'myname', 'reigelsperger', 'flv', 'wimmer', 'spvq', 'cappiello', 'isler', 'sykotik', 'keeter', 'jmoran', 'ucd', 'nienals', 'keefe', 'mcvey', 'murman', 'murmansk', 'willems', 'silkn', 'gorl', 'calyps0', 'mandco', 'mml', 'noreen', 'reillys', 'gniw', 'emmawi', 'jenks', 'cruk', 'mkassandra', 'lyman', 'jfa', 'samuraiblue', 'kanai', 'pinkett', 'aderholt', 'caldalex', 'jrohde', 'takhar', 'lizloza', 'stephensstory', 'zolarmoon', 'aronnax', 'annes', 'mcpasta', 'teacher', 'chelle', 'trant', 'ekt', 'bulgin', 'fluffybun', 'pri', 'ya', 'kojo', 'polba', 'nikkershaw', 'mjc', 'nevarez', 'breann', 'mercure', 'mlle', 'puddlecote', 'lolli', 'phizzle', 'thuli', 'dauth', 'marmon', 'nelisiwe', 'sibiya', 'raphaelite', 'multifacet', 'kaare', 'huber', 'jezi', 'tertia', 'casselman', 'katti', 'andrewswanson', 'edwardsla', 'righters', '600', 'dominicana', 'verma', 'aggrandisement', 'scottpaige', 'd10', 'dcool', 'ewadjd', 'asra', 'chelson', 'sendall', 'ffightus', 'nwf', 'kidpoker', 'rayyy', 'gunnn', 'burnette', 'adamchik', 'wnes', 'stillbowing', 'taytay', 'dantz', 'shongwe', 'upcote', 'grealy', 'fordy', 't1m', 'm0e', 'થય', 'છ', 'lingus', 'thehollow', 'sancarlo', 'deadzombie', 'onasis', 'wefaak', 'csub', 'miyavi', 'andrewbennett', 'edreams', 'sceats', 'mediamarkt', 'njomz', 'panasonic', 'andrewcarter', 'rosewell', 'swiftness', 'melrodriguez', 'letitia', 'vasudevan', 'egtv', 'pendence', 'સ', 'ગ', 'rozzay', 'selfagency', 'bilalabbas', 'boss', 'pdsa', 'gmmh', 'hopelt', 'collectif', 'vksingh', 'barong', 'mumsnet', 'jlibxc', 'maisy', 'maxanth', 'ssva', 'scorebook', 'ugondus', 'lizmcinnes', 'ghulammustafa', 'रत', 'aftermarket', 'presse', 'frigoris', 'strootman', 'nictro', 'shangri', 'graceyy', 'gcps', 'tenpin', 'willett', 'olivia', 'ukactive', 'oliver', 'drk', 'murrells', 'josephs', 'ckws', 'ricco', 'josierahman', 'hofmeyr', 'lsullivan', 'tashaaa', 'fitse', 'jesuschristempowersyou', 'gzsports', 'zm', 'cybill', 'teixeira', 'motsney', 'bazee', 'thomsen', 'theguru', 'tyanderson', 'happyb', 'hightide', 'rvidxr', 'escortanna', 'bakerusa', 'tdavenport', 'mrose', 'shama', 'pelle', 'willstone', 'cavc', 'ngobese', 'stweets', 'thatbloke', '826', 'purdon', 'mmac', 'vecenie', 'candita', 'oriordan', 'gsathletics', 'mcdrew', 'sallysparrow', 'amazingstuff', 'harriets', 'pointedness', 'niemietz', 'metson', 'aorus', 'boles', 'skycable', '760', 'zeke', 'brigette', 'dobs', 'ttrust', 'q26', 'benoit', 'bagot', 'robrt', 'goldste', '8277', 'seixeiro', \"old's\", 'kati', 'kleber', 'begg', 'wriggles', 'boyys', 'nnas', '110', 'studi', 'metsimus', 'schoolgames', 'powersj', 'dugger', 'elyon', 'torrence', 'christena', 'misshybrid', 'locket', 'failte', 'padraic', 'prerna', 'quan', 'kamila', 'graczyk', 'thalai', 'viduthalai', '우리', '방탄', '상받았네', 'infocus', '2019', 'mcdougald', 'idd', 'abcb', 'theprofits', 'marwadi', 'sayx', 'alexelle', '300', 'celisa', 'serrentino', \"abdu'l\", 'báha', 'millhaven', '351', 'pereira', 'gack', 'micki', 'wsdreaming', 'susi', 'mcadam', 'marycontrary', 'hatomugi', 'pettigrew', 'maresa', 'ohnoava', 'filmora', 'sueirwin', 'camozzi', '1015', 'vay', 'cay', 'sktelecom', 'wiita', 'drakster', 'mamp', 'gothia', 'uhlrich', 'hoemul', 'bellied', 'nch', 'balionis', 'tamarawinter', 'aurelie', 'rillyo', 'kmartel', 'psqm', 'anis', 'spft', 'ceh', 'mattbroad', 'quimico', 'tengson', '893', 'ikwekwezi', 'kwl', 'maree', 'sss', 'babyska', '1010xl', '153', 'adrive', 'kravontka', 'severin', 'jahn', '19851', 'rooker', 'casis', 'sebastienyc', 'hollywhite', 'theqb', 'misslotycz', 'pinko', 'galka', 'suarezg', 'phe', 'nnnnn', 'npaa', 'maz', 'masshole', 'ilona', 'quijano', 'deadgaming', 'adecco', 'brintnell', 'tenths', 'anomeli', 'dragonsoffic', 'bebo', 'enamels', 'anoara', 'grif', 'surico', 'thousand', 'chidubem', 'mukundananda', '1993', 'nhse', 'roaa', 'sabry', 'intersport', 'oscar', '574', 'bifa', 'popescu', '808', 'asako', 'soh', 'primetv', 'ait', 'bpc', 'saqlain', 'bananaboat', 'omuhle', 'gela', 'nieves', 'beckler', 'msamanda', 'shawnag', 'mizdee', '61', 'kodjia', '2112', 'flowdab15', 'alej', 'kott', 'mkleadkin', 'nothegger', 'jbendel', 'bluthund', '1999', 'alisa', 'arner', 'deery', 'dums', 'paddyb', 'xedu', 'pearlie', 'ajfleet', 'meshel', 'prcomms', 'knitty', 'jamielshaw', '슈퍼주니어', 'blacksuit', 'fashionpolice', 'keithjack', 'lennylarrys', '1237', 'fong', 'freeso', 'tka', 'sakuranori', 'fornicators', 'rigga', 'tisonlyme', 'mearza', '516', 'blb', 'drazzari', 'somy', 'sunkiss', 'crystalwolf', 'tallal', '410', 'orca', 'woodsy', 'rpk', '쿼드러플', '밀리언셀러', 'maroof', 'bismah', '360', 'sanya', 'riana', 'rachelcunha', 'noonas', 'laco', '128', '512', '4youth', '9198', 'jessicagraf', 'gpsa', 'worcs', 'madziva', 'o22ie', 'coincap', 'uppercrust', 'mcinerney', 'sondra', 'whatley', 'gilder', 'lehrman', 'suzzern', 'laskaris', 'hisey', 'from', '1892', 'paglia', 'anto', 'pauljoyce', 'flyy', 'boyy', 'keels', 'harbison', 'hrod', 'glenny', 'capper', 'rosegoid', '1511', 'mccutcheon', 'cbec', 'scruci', 'zeplin', 'ufs', 'wind', 'nuatali', 'nelmes', 'frc', '1979', 'molan', 'jmc', 'jinxy', 'minxy', 'problemsolver', 'hurrhunter', 'tixeira', 'weirdbeard', 'jabber', 'taff', 'rightcs', 'vladuceanu', 'duecer', 'y2dre', 'anchordown', 'hagen', 'davidj', 'hayniebellsou', 'parkin', 'yasminrashid', 'ebner', 'eschenbach', 'kurkjian', 'swe', 'motorizer', 'apolonia', 'actweek', 'noll', 'lyha', 'lisap', 'tarasyuk', 'kult', '4ever', 'cochon', 'marcgoddard', 'endubs', 'crapgamer', 'daddysciotto', 'ellejohnson', 'naidoo', 'sule', 'kennythomas', 'liasis', 'sportspaige', 'dorena', 'emoni', 'adeletaylor', '2036', 'thecitizen', 'madida', 'admin', 'pavi', 'poojari', 'mamat', 'lisham']\n"
     ]
    }
   ],
   "source": [
    "print(missingWord)"
   ]
  },
  {
   "cell_type": "markdown",
   "metadata": {},
   "source": [
    "### Modeling"
   ]
  },
  {
   "cell_type": "markdown",
   "metadata": {},
   "source": [
    "#### Preparing training data"
   ]
  },
  {
   "cell_type": "code",
   "execution_count": 20,
   "metadata": {},
   "outputs": [
    {
     "name": "stdout",
     "output_type": "stream",
     "text": [
      "BOW_X_train.shape:  (1164450, 3000)\n",
      "BOW_y_train.shape:  (1164450,)\n",
      "BOW_X_test.shape:  (291113, 3000)\n",
      "BOW_y_test.shape:  (291113,)\n"
     ]
    }
   ],
   "source": [
    "# for a classificaiton problem, you need to provide both training & testing data\n",
    "div = int(train_df.shape[0]*0.8)\n",
    "\n",
    "BOW_X_train = BOW_train[:div]\n",
    "BOW_y_train = train_df['emotion'][:div]\n",
    "\n",
    "BOW_X_test = BOW_train[div:]\n",
    "BOW_y_test = train_df['emotion'][div:]\n",
    "\n",
    "## take a look at data dimension is a good habbit  :)\n",
    "print('BOW_X_train.shape: ', BOW_X_train.shape)\n",
    "print('BOW_y_train.shape: ', BOW_y_train.shape)\n",
    "print('BOW_X_test.shape: ', BOW_X_test.shape)\n",
    "print('BOW_y_test.shape: ', BOW_y_test.shape)"
   ]
  },
  {
   "cell_type": "code",
   "execution_count": 21,
   "metadata": {},
   "outputs": [
    {
     "name": "stdout",
     "output_type": "stream",
     "text": [
      "w2v_X_train.shape:  (1164450, 50)\n",
      "w2v_y_train.shape:  (1164450,)\n",
      "w2v_X_test.shape:  (291113, 50)\n",
      "w2v_y_test.shape:  (291113,)\n"
     ]
    }
   ],
   "source": [
    "# for a classificaiton problem, you need to provide both training & testing data\n",
    "div = int(train_df.shape[0]*0.8)\n",
    "\n",
    "w2v_X_train = w2v_train[:div]\n",
    "w2v_y_train = train_df['emotion'][:div]\n",
    "\n",
    "w2v_X_test = w2v_train[div:]\n",
    "w2v_y_test = train_df['emotion'][div:]\n",
    "\n",
    "## take a look at data dimension is a good habbit  :)\n",
    "print('w2v_X_train.shape: ', w2v_X_train.shape)\n",
    "print('w2v_y_train.shape: ', w2v_y_train.shape)\n",
    "print('w2v_X_test.shape: ', w2v_X_test.shape)\n",
    "print('w2v_y_test.shape: ', w2v_y_test.shape)"
   ]
  },
  {
   "cell_type": "code",
   "execution_count": 22,
   "metadata": {},
   "outputs": [
    {
     "name": "stdout",
     "output_type": "stream",
     "text": [
      "w2v_X_train.shape:  (1164450, 50)\n",
      "w2v_y_train.shape:  (1164450,)\n",
      "w2v_X_test.shape:  (291113, 50)\n",
      "w2v_y_test.shape:  (291113,)\n"
     ]
    }
   ],
   "source": [
    "# for a classificaiton problem, you need to provide both training & testing data\n",
    "div = int(train_df.shape[0]*0.8)\n",
    "\n",
    "glove_X_train = glove_train[:div]\n",
    "glove_y_train = train_df['emotion'][:div]\n",
    "\n",
    "glove_X_test = glove_train[div:]\n",
    "glove_y_test = train_df['emotion'][div:]\n",
    "\n",
    "## take a look at data dimension is a good habbit  :)\n",
    "print('w2v_X_train.shape: ', glove_X_train.shape)\n",
    "print('w2v_y_train.shape: ', glove_y_train.shape)\n",
    "print('w2v_X_test.shape: ', glove_X_test.shape)\n",
    "print('w2v_y_test.shape: ', glove_y_test.shape)"
   ]
  },
  {
   "cell_type": "code",
   "execution_count": 23,
   "metadata": {},
   "outputs": [
    {
     "name": "stdout",
     "output_type": "stream",
     "text": [
      "w2v_X_train.shape:  (1164450, 20)\n",
      "w2v_y_train.shape:  (1164450,)\n",
      "w2v_X_test.shape:  (291113, 20)\n",
      "w2v_y_test.shape:  (291113,)\n"
     ]
    }
   ],
   "source": [
    "# for a classificaiton problem, you need to provide both training & testing data\n",
    "div = int(train_df.shape[0]*0.8)\n",
    "\n",
    "wordEmbedding_w2v_X_train = wordEmbedding_w2v_train[:div]\n",
    "wordEmbedding_w2v_y_train = train_df['emotion'][:div]\n",
    "\n",
    "wordEmbedding_w2v_X_test = wordEmbedding_w2v_train[div:]\n",
    "wordEmbedding_w2v_y_test = train_df['emotion'][div:]\n",
    "\n",
    "## take a look at data dimension is a good habbit  :)\n",
    "print('w2v_X_train.shape: ', wordEmbedding_w2v_X_train.shape)\n",
    "print('w2v_y_train.shape: ', wordEmbedding_w2v_y_train.shape)\n",
    "print('w2v_X_test.shape: ', wordEmbedding_w2v_X_test.shape)\n",
    "print('w2v_y_test.shape: ', wordEmbedding_w2v_y_test.shape)"
   ]
  },
  {
   "cell_type": "markdown",
   "metadata": {},
   "source": [
    "#### Decision Tree"
   ]
  },
  {
   "cell_type": "code",
   "execution_count": null,
   "metadata": {},
   "outputs": [],
   "source": [
    "from sklearn.tree import DecisionTreeClassifier\n",
    "\n",
    "## build DecisionTree model\n",
    "DT_model = DecisionTreeClassifier(random_state=0)\n",
    "\n",
    "## training!\n",
    "DT_model = DT_model.fit(BOW_X_train, BOW_y_train)\n",
    "\n",
    "## predict!\n",
    "BOW_Tree_y_train_pred = DT_model.predict(BOW_X_train)\n",
    "BOW_Tree_y_test_pred = DT_model.predict(BOW_X_test)\n",
    "\n",
    "# check statistical results\n",
    "## precision, recall, f1-score,\n",
    "from sklearn.metrics import classification_report\n",
    "print(classification_report(y_true=BOW_Tree_y_test, y_pred=BOW_Tree_y_test_pred))"
   ]
  },
  {
   "cell_type": "markdown",
   "metadata": {},
   "source": [
    "#### Multinomial Naive Bayes"
   ]
  },
  {
   "cell_type": "code",
   "execution_count": null,
   "metadata": {},
   "outputs": [],
   "source": [
    "from sklearn.naive_bayes import MultinomialNB\n",
    "\n",
    "clf = MultinomialNB()\n",
    "clf.fit(BOW_X_train, BOW_y_train)\n",
    "\n",
    "## predict!\n",
    "BOW_naive_y_train_pred = clf.predict(BOW_X_train)\n",
    "BOW_naive__y_test_pred = clf.predict(BOW_X_test)\n",
    "\n",
    "# check statistical results\n",
    "## precision, recall, f1-score,\n",
    "from sklearn.metrics import classification_report\n",
    "print(classification_report(y_true=BOW_naive_y_test, y_pred=BOW_naive_y_test_pred))"
   ]
  },
  {
   "cell_type": "markdown",
   "metadata": {},
   "source": [
    "#### Deep learning - Dense"
   ]
  },
  {
   "cell_type": "markdown",
   "metadata": {},
   "source": [
    "##### BOW"
   ]
  },
  {
   "cell_type": "code",
   "execution_count": 33,
   "metadata": {},
   "outputs": [],
   "source": [
    "import keras\n",
    "from sklearn.preprocessing import LabelEncoder\n",
    "\n",
    "def label_encode(le, labels):\n",
    "    enc = le.transform(labels)\n",
    "    return keras.utils.to_categorical(enc)\n",
    "\n",
    "def label_decode(le, one_hot_label):\n",
    "    dec = np.argmax(one_hot_label, axis=1)\n",
    "    return le.inverse_transform(dec)"
   ]
  },
  {
   "cell_type": "code",
   "execution_count": 36,
   "metadata": {},
   "outputs": [],
   "source": [
    "def encode(y_train, y_test):\n",
    "    label_encoder = LabelEncoder()\n",
    "    label_encoder.fit(y_train)\n",
    "    print('check label: ', label_encoder.classes_)\n",
    "    print('\\n## Before convert')\n",
    "    print('y_train[0:4]:\\n', y_train[0:4])\n",
    "    print('\\ny_train.shape: ', y_train.shape)\n",
    "    print('y_test.shape: ', y_test.shape)\n",
    "\n",
    "    re_y_train = label_encode(label_encoder, y_train)\n",
    "    re_y_test = label_encode(label_encoder, y_test)\n",
    "\n",
    "    print('\\n\\n## After convert')\n",
    "    print('y_train[0:4]:\\n', y_train[0:4])\n",
    "    print('\\ny_train.shape: ', y_train.shape)\n",
    "    print('y_test.shape: ', y_test.shape)\n",
    "    \n",
    "    return re_y_train, re_y_test, label_encoder"
   ]
  },
  {
   "cell_type": "code",
   "execution_count": 37,
   "metadata": {},
   "outputs": [
    {
     "name": "stdout",
     "output_type": "stream",
     "text": [
      "check label:  ['anger' 'anticipation' 'disgust' 'fear' 'joy' 'sadness' 'surprise'\n",
      " 'trust']\n",
      "\n",
      "## Before convert\n",
      "y_train[0:4]:\n",
      " 0    anticipation\n",
      "1         sadness\n",
      "2            fear\n",
      "3             joy\n",
      "Name: emotion, dtype: object\n",
      "\n",
      "y_train.shape:  (1164450,)\n",
      "y_test.shape:  (291113,)\n",
      "\n",
      "\n",
      "## After convert\n",
      "y_train[0:4]:\n",
      " 0    anticipation\n",
      "1         sadness\n",
      "2            fear\n",
      "3             joy\n",
      "Name: emotion, dtype: object\n",
      "\n",
      "y_train.shape:  (1164450,)\n",
      "y_test.shape:  (291113,)\n"
     ]
    }
   ],
   "source": [
    "le_BOW_y_train, le_BOW_y_test, label_encoder = encode(BOW_y_train, BOW_y_test)"
   ]
  },
  {
   "cell_type": "code",
   "execution_count": 38,
   "metadata": {},
   "outputs": [
    {
     "name": "stdout",
     "output_type": "stream",
     "text": [
      "input_shape:  3000\n",
      "output_shape:  8\n"
     ]
    }
   ],
   "source": [
    "# I/O check\n",
    "input_shape = BOW_X_train.shape[1]\n",
    "print('input_shape: ', input_shape)\n",
    "\n",
    "output_shape = len(label_encoder.classes_)\n",
    "print('output_shape: ', output_shape)"
   ]
  },
  {
   "cell_type": "code",
   "execution_count": 39,
   "metadata": {},
   "outputs": [
    {
     "name": "stdout",
     "output_type": "stream",
     "text": [
      "_________________________________________________________________\n",
      "Layer (type)                 Output Shape              Param #   \n",
      "=================================================================\n",
      "input_1 (InputLayer)         (None, 3000)              0         \n",
      "_________________________________________________________________\n",
      "dense_1 (Dense)              (None, 384)               1152384   \n",
      "_________________________________________________________________\n",
      "batch_normalization_1 (Batch (None, 384)               1536      \n",
      "_________________________________________________________________\n",
      "re_lu_1 (ReLU)               (None, 384)               0         \n",
      "_________________________________________________________________\n",
      "dropout_1 (Dropout)          (None, 384)               0         \n",
      "_________________________________________________________________\n",
      "dense_2 (Dense)              (None, 384)               147840    \n",
      "_________________________________________________________________\n",
      "batch_normalization_2 (Batch (None, 384)               1536      \n",
      "_________________________________________________________________\n",
      "re_lu_2 (ReLU)               (None, 384)               0         \n",
      "_________________________________________________________________\n",
      "dropout_2 (Dropout)          (None, 384)               0         \n",
      "_________________________________________________________________\n",
      "dense_3 (Dense)              (None, 48)                18480     \n",
      "_________________________________________________________________\n",
      "batch_normalization_3 (Batch (None, 48)                192       \n",
      "_________________________________________________________________\n",
      "re_lu_3 (ReLU)               (None, 48)                0         \n",
      "_________________________________________________________________\n",
      "dropout_3 (Dropout)          (None, 48)                0         \n",
      "_________________________________________________________________\n",
      "dense_4 (Dense)              (None, 48)                2352      \n",
      "_________________________________________________________________\n",
      "batch_normalization_4 (Batch (None, 48)                192       \n",
      "_________________________________________________________________\n",
      "re_lu_4 (ReLU)               (None, 48)                0         \n",
      "_________________________________________________________________\n",
      "dropout_4 (Dropout)          (None, 48)                0         \n",
      "_________________________________________________________________\n",
      "dense_5 (Dense)              (None, 8)                 392       \n",
      "_________________________________________________________________\n",
      "softmax_1 (Softmax)          (None, 8)                 0         \n",
      "=================================================================\n",
      "Total params: 1,324,904\n",
      "Trainable params: 1,323,176\n",
      "Non-trainable params: 1,728\n",
      "_________________________________________________________________\n"
     ]
    }
   ],
   "source": [
    "from keras.models import Model\n",
    "from keras.layers import Input, Dense\n",
    "from keras.layers import ReLU, Softmax\n",
    "from keras.layers import Dropout\n",
    "from keras.layers.normalization import BatchNormalization\n",
    "from keras import optimizers\n",
    "from keras import regularizers\n",
    "\n",
    "# input layer\n",
    "model_input = Input(shape=(input_shape, ))  # 500\n",
    "X = model_input\n",
    "\n",
    "# 1st hidden layer\n",
    "# X_Batch = BatchNormalization()(X)\n",
    "X_W1 = Dense(units=384, kernel_regularizer = regularizers.l2(0.001))(X)  # 64\n",
    "H1 = BatchNormalization()(X_W1)\n",
    "H1 = ReLU()(H1)\n",
    "H1_Drop = Dropout(0.5)(H1)\n",
    "\n",
    "# 2nd hidden layer\n",
    "H1_W2 = Dense(units=384, kernel_regularizer = regularizers.l2(0.001))(H1_Drop)  # 64\n",
    "H2 = BatchNormalization()(H1_W2)\n",
    "H2 = ReLU()(H2)\n",
    "H2_Drop = Dropout(0.5)(H2)\n",
    "\n",
    "H2_W3 = Dense(units=48, kernel_regularizer = regularizers.l2(0.001))(H2_Drop)  # 64\n",
    "H3 = BatchNormalization()(H2_W3)\n",
    "H3 = ReLU()(H3)\n",
    "H3_Drop = Dropout(0.5)(H3)\n",
    "\n",
    "H3_W4 = Dense(units=48, kernel_regularizer = regularizers.l2(0.001))(H3_Drop)  # 64\n",
    "H4 = BatchNormalization()(H3_W4)\n",
    "H4 = ReLU()(H4)\n",
    "H4_Drop = Dropout(0.5)(H4)\n",
    "\n",
    "# output layer\n",
    "H4_W5 = Dense(units=output_shape, kernel_regularizer = regularizers.l2(0.001))(H4_Drop)  # 4\n",
    "H5 = Softmax()(H4_W5)\n",
    "\n",
    "model_output = H5\n",
    "\n",
    "# create model\n",
    "model = Model(inputs=[model_input], outputs=[model_output])\n",
    "\n",
    "# sgd = optimizers.SGD(lr=0.01, decay=1e-6, momentum=0.9, nesterov=True)\n",
    "adam = optimizers.Adamax(lr=0.002, beta_1=0.9, beta_2=0.999, epsilon=None, decay=0.0)\n",
    "\n",
    "# loss function & optimizer\n",
    "model.compile(optimizer=adam,\n",
    "              loss='categorical_crossentropy',\n",
    "              metrics=['accuracy'])\n",
    "\n",
    "# show model construction\n",
    "model.summary()"
   ]
  },
  {
   "cell_type": "code",
   "execution_count": 40,
   "metadata": {},
   "outputs": [
    {
     "name": "stdout",
     "output_type": "stream",
     "text": [
      "Train on 1164450 samples, validate on 291113 samples\n",
      "Epoch 1/3\n",
      "1164450/1164450 [==============================] - 168s 144us/step - loss: 1.7666 - acc: 0.4491 - val_loss: 1.4972 - val_acc: 0.5036\n",
      "Epoch 2/3\n",
      "1164450/1164450 [==============================] - 161s 138us/step - loss: 1.5619 - acc: 0.4826 - val_loss: 1.4847 - val_acc: 0.5074\n",
      "Epoch 3/3\n",
      "1164450/1164450 [==============================] - 162s 139us/step - loss: 1.5528 - acc: 0.4860 - val_loss: 1.4772 - val_acc: 0.5112\n"
     ]
    }
   ],
   "source": [
    "epochs = 3\n",
    "batch_size = 128\n",
    "history = model.fit(BOW_X_train, le_BOW_y_train, epochs=epochs, batch_size=batch_size,\n",
    "                    validation_data = (BOW_X_test, le_BOW_y_test))"
   ]
  },
  {
   "cell_type": "code",
   "execution_count": 42,
   "metadata": {},
   "outputs": [
    {
     "name": "stdout",
     "output_type": "stream",
     "text": [
      "              precision    recall  f1-score   support\n",
      "\n",
      "       anger       0.82      0.08      0.15      8003\n",
      "anticipation       0.63      0.48      0.54     49901\n",
      "     disgust       0.42      0.31      0.36     27449\n",
      "        fear       0.80      0.26      0.39     12844\n",
      "         joy       0.48      0.87      0.61    103127\n",
      "     sadness       0.52      0.38      0.44     38638\n",
      "    surprise       0.76      0.10      0.17      9816\n",
      "       trust       0.69      0.18      0.29     41335\n",
      "\n",
      "   micro avg       0.51      0.51      0.51    291113\n",
      "   macro avg       0.64      0.33      0.37    291113\n",
      "weighted avg       0.57      0.51      0.47    291113\n",
      "\n"
     ]
    }
   ],
   "source": [
    "## precision, recall, f1-score,\n",
    "from sklearn.metrics import classification_report\n",
    "\n",
    "y_pred_result = model.predict(x = BOW_X_test, batch_size=128)\n",
    "y_pred_result = label_decode(label_encoder, y_pred_result)\n",
    "print(classification_report(y_true=BOW_y_test, y_pred=y_pred_result))"
   ]
  },
  {
   "cell_type": "markdown",
   "metadata": {},
   "source": [
    "##### w2v"
   ]
  },
  {
   "cell_type": "code",
   "execution_count": 41,
   "metadata": {},
   "outputs": [
    {
     "name": "stdout",
     "output_type": "stream",
     "text": [
      "check label:  ['anger' 'anticipation' 'disgust' 'fear' 'joy' 'sadness' 'surprise'\n",
      " 'trust']\n",
      "\n",
      "## Before convert\n",
      "y_train[0:4]:\n",
      " 0    anticipation\n",
      "1         sadness\n",
      "2            fear\n",
      "3             joy\n",
      "Name: emotion, dtype: object\n",
      "\n",
      "y_train.shape:  (1164450,)\n",
      "y_test.shape:  (291113,)\n",
      "\n",
      "\n",
      "## After convert\n",
      "y_train[0:4]:\n",
      " 0    anticipation\n",
      "1         sadness\n",
      "2            fear\n",
      "3             joy\n",
      "Name: emotion, dtype: object\n",
      "\n",
      "y_train.shape:  (1164450,)\n",
      "y_test.shape:  (291113,)\n"
     ]
    }
   ],
   "source": [
    "le_w2v_y_train, le_w2v_y_test, label_encoder = encode(w2v_y_train, w2v_y_test)"
   ]
  },
  {
   "cell_type": "code",
   "execution_count": 43,
   "metadata": {},
   "outputs": [
    {
     "name": "stdout",
     "output_type": "stream",
     "text": [
      "input_shape:  50\n",
      "output_shape:  8\n"
     ]
    }
   ],
   "source": [
    "# I/O check\n",
    "input_shape = w2v_X_train.shape[1]\n",
    "print('input_shape: ', input_shape)\n",
    "\n",
    "output_shape = len(label_encoder.classes_)\n",
    "print('output_shape: ', output_shape)"
   ]
  },
  {
   "cell_type": "code",
   "execution_count": 44,
   "metadata": {},
   "outputs": [
    {
     "name": "stdout",
     "output_type": "stream",
     "text": [
      "_________________________________________________________________\n",
      "Layer (type)                 Output Shape              Param #   \n",
      "=================================================================\n",
      "input_2 (InputLayer)         (None, 50)                0         \n",
      "_________________________________________________________________\n",
      "dense_6 (Dense)              (None, 384)               19584     \n",
      "_________________________________________________________________\n",
      "batch_normalization_5 (Batch (None, 384)               1536      \n",
      "_________________________________________________________________\n",
      "re_lu_5 (ReLU)               (None, 384)               0         \n",
      "_________________________________________________________________\n",
      "dropout_5 (Dropout)          (None, 384)               0         \n",
      "_________________________________________________________________\n",
      "dense_7 (Dense)              (None, 384)               147840    \n",
      "_________________________________________________________________\n",
      "batch_normalization_6 (Batch (None, 384)               1536      \n",
      "_________________________________________________________________\n",
      "re_lu_6 (ReLU)               (None, 384)               0         \n",
      "_________________________________________________________________\n",
      "dropout_6 (Dropout)          (None, 384)               0         \n",
      "_________________________________________________________________\n",
      "dense_8 (Dense)              (None, 48)                18480     \n",
      "_________________________________________________________________\n",
      "batch_normalization_7 (Batch (None, 48)                192       \n",
      "_________________________________________________________________\n",
      "re_lu_7 (ReLU)               (None, 48)                0         \n",
      "_________________________________________________________________\n",
      "dropout_7 (Dropout)          (None, 48)                0         \n",
      "_________________________________________________________________\n",
      "dense_9 (Dense)              (None, 48)                2352      \n",
      "_________________________________________________________________\n",
      "batch_normalization_8 (Batch (None, 48)                192       \n",
      "_________________________________________________________________\n",
      "re_lu_8 (ReLU)               (None, 48)                0         \n",
      "_________________________________________________________________\n",
      "dropout_8 (Dropout)          (None, 48)                0         \n",
      "_________________________________________________________________\n",
      "dense_10 (Dense)             (None, 8)                 392       \n",
      "_________________________________________________________________\n",
      "softmax_2 (Softmax)          (None, 8)                 0         \n",
      "=================================================================\n",
      "Total params: 192,104\n",
      "Trainable params: 190,376\n",
      "Non-trainable params: 1,728\n",
      "_________________________________________________________________\n"
     ]
    }
   ],
   "source": [
    "from keras.models import Model\n",
    "from keras.layers import Input, Dense\n",
    "from keras.layers import ReLU, Softmax\n",
    "from keras.layers import Dropout\n",
    "from keras.layers.normalization import BatchNormalization\n",
    "from keras import optimizers\n",
    "from keras import regularizers\n",
    "\n",
    "# input layer\n",
    "model_input = Input(shape=(input_shape, ))  # 500\n",
    "X = model_input\n",
    "\n",
    "# 1st hidden layer\n",
    "# X_Batch = BatchNormalization()(X)\n",
    "X_W1 = Dense(units=384, kernel_regularizer = regularizers.l2(0.001))(X)  # 64\n",
    "H1 = BatchNormalization()(X_W1)\n",
    "H1 = ReLU()(H1)\n",
    "H1_Drop = Dropout(0.5)(H1)\n",
    "\n",
    "# 2nd hidden layer\n",
    "H1_W2 = Dense(units=384, kernel_regularizer = regularizers.l2(0.001))(H1_Drop)  # 64\n",
    "H2 = BatchNormalization()(H1_W2)\n",
    "H2 = ReLU()(H2)\n",
    "H2_Drop = Dropout(0.5)(H2)\n",
    "\n",
    "H2_W3 = Dense(units=48, kernel_regularizer = regularizers.l2(0.001))(H2_Drop)  # 64\n",
    "H3 = BatchNormalization()(H2_W3)\n",
    "H3 = ReLU()(H3)\n",
    "H3_Drop = Dropout(0.5)(H3)\n",
    "\n",
    "H3_W4 = Dense(units=48, kernel_regularizer = regularizers.l2(0.001))(H3_Drop)  # 64\n",
    "H4 = BatchNormalization()(H3_W4)\n",
    "H4 = ReLU()(H4)\n",
    "H4_Drop = Dropout(0.5)(H4)\n",
    "\n",
    "# output layer\n",
    "H4_W5 = Dense(units=output_shape, kernel_regularizer = regularizers.l2(0.001))(H4_Drop)  # 4\n",
    "H5 = Softmax()(H4_W5)\n",
    "\n",
    "model_output = H5\n",
    "\n",
    "# create model\n",
    "model = Model(inputs=[model_input], outputs=[model_output])\n",
    "\n",
    "# sgd = optimizers.SGD(lr=0.01, decay=1e-6, momentum=0.9, nesterov=True)\n",
    "adam = optimizers.Adamax(lr=0.002, beta_1=0.9, beta_2=0.999, epsilon=None, decay=0.0)\n",
    "\n",
    "# loss function & optimizer\n",
    "model.compile(optimizer=adam,\n",
    "              loss='categorical_crossentropy',\n",
    "              metrics=['accuracy'])\n",
    "\n",
    "# show model construction\n",
    "model.summary()"
   ]
  },
  {
   "cell_type": "code",
   "execution_count": 45,
   "metadata": {},
   "outputs": [
    {
     "name": "stdout",
     "output_type": "stream",
     "text": [
      "Train on 1164450 samples, validate on 291113 samples\n",
      "Epoch 1/3\n",
      "1164450/1164450 [==============================] - 129s 111us/step - loss: 1.8915 - acc: 0.3588 - val_loss: 1.7621 - val_acc: 0.3633\n",
      "Epoch 2/3\n",
      "1164450/1164450 [==============================] - 129s 111us/step - loss: 1.7461 - acc: 0.3731 - val_loss: 1.7270 - val_acc: 0.3743\n",
      "Epoch 3/3\n",
      "1164450/1164450 [==============================] - 129s 111us/step - loss: 1.7365 - acc: 0.3755 - val_loss: 1.7233 - val_acc: 0.3743\n"
     ]
    }
   ],
   "source": [
    "epochs = 3\n",
    "batch_size = 128\n",
    "history = model.fit(w2v_X_train, le_w2v_y_train, epochs=epochs, batch_size=batch_size,\n",
    "                    validation_data = (w2v_X_test, le_w2v_y_test))"
   ]
  },
  {
   "cell_type": "code",
   "execution_count": 46,
   "metadata": {},
   "outputs": [
    {
     "name": "stderr",
     "output_type": "stream",
     "text": [
      "/home/lu/anaconda3/envs/NTHU_DataMining/lib/python3.6/site-packages/sklearn/metrics/classification.py:1143: UndefinedMetricWarning: Precision and F-score are ill-defined and being set to 0.0 in labels with no predicted samples.\n",
      "  'precision', 'predicted', average, warn_for)\n"
     ]
    },
    {
     "name": "stdout",
     "output_type": "stream",
     "text": [
      "              precision    recall  f1-score   support\n",
      "\n",
      "       anger       0.96      0.04      0.08      8003\n",
      "anticipation       0.79      0.07      0.14     49901\n",
      "     disgust       0.00      0.00      0.00     27449\n",
      "        fear       0.30      0.01      0.01     12844\n",
      "         joy       0.36      0.99      0.53    103127\n",
      "     sadness       0.56      0.06      0.11     38638\n",
      "    surprise       0.00      0.00      0.00      9816\n",
      "       trust       0.00      0.00      0.00     41335\n",
      "\n",
      "   micro avg       0.37      0.37      0.37    291113\n",
      "   macro avg       0.37      0.15      0.11    291113\n",
      "weighted avg       0.38      0.37      0.23    291113\n",
      "\n"
     ]
    }
   ],
   "source": [
    "## precision, recall, f1-score,\n",
    "from sklearn.metrics import classification_report\n",
    "\n",
    "y_pred_result = model.predict(x = w2v_X_test, batch_size=128)\n",
    "y_pred_result = label_decode(label_encoder, y_pred_result)\n",
    "print(classification_report(y_true=w2v_y_test, y_pred=y_pred_result))"
   ]
  },
  {
   "cell_type": "markdown",
   "metadata": {},
   "source": [
    "#### Deep learning - LSTM"
   ]
  },
  {
   "cell_type": "code",
   "execution_count": 49,
   "metadata": {},
   "outputs": [
    {
     "name": "stdout",
     "output_type": "stream",
     "text": [
      "check label:  ['anger' 'anticipation' 'disgust' 'fear' 'joy' 'sadness' 'surprise'\n",
      " 'trust']\n",
      "\n",
      "## Before convert\n",
      "y_train[0:4]:\n",
      " 0    anticipation\n",
      "1         sadness\n",
      "2            fear\n",
      "3             joy\n",
      "Name: emotion, dtype: object\n",
      "\n",
      "y_train.shape:  (1164450,)\n",
      "y_test.shape:  (291113,)\n",
      "\n",
      "\n",
      "## After convert\n",
      "y_train[0:4]:\n",
      " 0    anticipation\n",
      "1         sadness\n",
      "2            fear\n",
      "3             joy\n",
      "Name: emotion, dtype: object\n",
      "\n",
      "y_train.shape:  (1164450,)\n",
      "y_test.shape:  (291113,)\n"
     ]
    }
   ],
   "source": [
    "le_wordEmbedding_w2v_y_train, le_wordEmbedding_w2v_y_test, label_encoder = encode(wordEmbedding_w2v_y_train, wordEmbedding_w2v_y_test)"
   ]
  },
  {
   "cell_type": "code",
   "execution_count": 50,
   "metadata": {},
   "outputs": [
    {
     "name": "stdout",
     "output_type": "stream",
     "text": [
      "input_shape:  20\n",
      "output_shape:  8\n"
     ]
    }
   ],
   "source": [
    "# I/O check\n",
    "input_shape = wordEmbedding_w2v_X_train.shape[1]\n",
    "print('input_shape: ', input_shape)\n",
    "\n",
    "output_shape = len(label_encoder.classes_)\n",
    "print('output_shape: ', output_shape)"
   ]
  },
  {
   "cell_type": "code",
   "execution_count": 51,
   "metadata": {},
   "outputs": [
    {
     "name": "stdout",
     "output_type": "stream",
     "text": [
      "_________________________________________________________________\n",
      "Layer (type)                 Output Shape              Param #   \n",
      "=================================================================\n",
      "embedding_2 (Embedding)      (None, 20, 50)            6884000   \n",
      "_________________________________________________________________\n",
      "lstm_2 (LSTM)                (None, 512)               1153024   \n",
      "_________________________________________________________________\n",
      "dense_13 (Dense)             (None, 256)               131328    \n",
      "_________________________________________________________________\n",
      "dropout_10 (Dropout)         (None, 256)               0         \n",
      "_________________________________________________________________\n",
      "dense_14 (Dense)             (None, 8)                 2056      \n",
      "=================================================================\n",
      "Total params: 8,170,408\n",
      "Trainable params: 1,286,408\n",
      "Non-trainable params: 6,884,000\n",
      "_________________________________________________________________\n"
     ]
    }
   ],
   "source": [
    "from keras.models import Sequential\n",
    "from keras.layers import Dense, LSTM, GRU, Dropout, Activation, ActivityRegularization, SpatialDropout1D\n",
    "from keras.layers.embeddings import Embedding\n",
    "from keras.regularizers import l2\n",
    "from keras.initializers import Constant\n",
    "from keras import optimizers\n",
    "\n",
    "model = Sequential()\n",
    "model.add(Embedding(len(word_index) + 1,\n",
    "                            vector_dim,\n",
    "                            embeddings_initializer=Constant(embedding_matrix),\n",
    "                            input_length=MAX_SEQUENCE_LENGTH,\n",
    "                            trainable=False))\n",
    "# model.add(SpatialDropout1D(0.7))\n",
    "model.add(LSTM(512, dropout=0.2, recurrent_dropout=0.2))\n",
    "model.add(Dense(256, activation='relu'))\n",
    "model.add(Dropout(0.5))\n",
    "model.add(Dense(8, activation='softmax'))\n",
    "\n",
    "adam = optimizers.Adamax(lr=0.002, beta_1=0.9, beta_2=0.999, epsilon=None, decay=0.0)\n",
    "model.compile(optimizer=adam, loss='categorical_crossentropy', metrics=['acc'])\n",
    "\n",
    "model.summary()"
   ]
  },
  {
   "cell_type": "code",
   "execution_count": 52,
   "metadata": {},
   "outputs": [
    {
     "name": "stdout",
     "output_type": "stream",
     "text": [
      "Train on 1164450 samples, validate on 291113 samples\n",
      "Epoch 1/3\n",
      "1164450/1164450 [==============================] - 478s 410us/step - loss: 1.3187 - acc: 0.5219 - val_loss: 1.2277 - val_acc: 0.5534\n",
      "Epoch 2/3\n",
      " 131072/1164450 [==>...........................] - ETA: 6:21 - loss: 1.2553 - acc: 0.5447"
     ]
    },
    {
     "ename": "KeyboardInterrupt",
     "evalue": "",
     "output_type": "error",
     "traceback": [
      "\u001b[0;31m---------------------------------------------------------------------------\u001b[0m",
      "\u001b[0;31mKeyboardInterrupt\u001b[0m                         Traceback (most recent call last)",
      "\u001b[0;32m<ipython-input-52-61d341194f30>\u001b[0m in \u001b[0;36m<module>\u001b[0;34m\u001b[0m\n\u001b[1;32m      2\u001b[0m \u001b[0mbatch_size\u001b[0m \u001b[0;34m=\u001b[0m \u001b[0;36m128\u001b[0m\u001b[0;34m\u001b[0m\u001b[0m\n\u001b[1;32m      3\u001b[0m history = model.fit(wordEmbedding_w2v_X_train, le_wordEmbedding_w2v_y_train, epochs=epochs, batch_size=batch_size,\n\u001b[0;32m----> 4\u001b[0;31m                     validation_data = (wordEmbedding_w2v_X_test, le_wordEmbedding_w2v_y_test))\n\u001b[0m",
      "\u001b[0;32m~/anaconda3/envs/NTHU_DataMining/lib/python3.6/site-packages/keras/engine/training.py\u001b[0m in \u001b[0;36mfit\u001b[0;34m(self, x, y, batch_size, epochs, verbose, callbacks, validation_split, validation_data, shuffle, class_weight, sample_weight, initial_epoch, steps_per_epoch, validation_steps, **kwargs)\u001b[0m\n\u001b[1;32m   1037\u001b[0m                                         \u001b[0minitial_epoch\u001b[0m\u001b[0;34m=\u001b[0m\u001b[0minitial_epoch\u001b[0m\u001b[0;34m,\u001b[0m\u001b[0;34m\u001b[0m\u001b[0m\n\u001b[1;32m   1038\u001b[0m                                         \u001b[0msteps_per_epoch\u001b[0m\u001b[0;34m=\u001b[0m\u001b[0msteps_per_epoch\u001b[0m\u001b[0;34m,\u001b[0m\u001b[0;34m\u001b[0m\u001b[0m\n\u001b[0;32m-> 1039\u001b[0;31m                                         validation_steps=validation_steps)\n\u001b[0m\u001b[1;32m   1040\u001b[0m \u001b[0;34m\u001b[0m\u001b[0m\n\u001b[1;32m   1041\u001b[0m     def evaluate(self, x=None, y=None,\n",
      "\u001b[0;32m~/anaconda3/envs/NTHU_DataMining/lib/python3.6/site-packages/keras/engine/training_arrays.py\u001b[0m in \u001b[0;36mfit_loop\u001b[0;34m(model, f, ins, out_labels, batch_size, epochs, verbose, callbacks, val_f, val_ins, shuffle, callback_metrics, initial_epoch, steps_per_epoch, validation_steps)\u001b[0m\n\u001b[1;32m    197\u001b[0m                     \u001b[0mins_batch\u001b[0m\u001b[0;34m[\u001b[0m\u001b[0mi\u001b[0m\u001b[0;34m]\u001b[0m \u001b[0;34m=\u001b[0m \u001b[0mins_batch\u001b[0m\u001b[0;34m[\u001b[0m\u001b[0mi\u001b[0m\u001b[0;34m]\u001b[0m\u001b[0;34m.\u001b[0m\u001b[0mtoarray\u001b[0m\u001b[0;34m(\u001b[0m\u001b[0;34m)\u001b[0m\u001b[0;34m\u001b[0m\u001b[0m\n\u001b[1;32m    198\u001b[0m \u001b[0;34m\u001b[0m\u001b[0m\n\u001b[0;32m--> 199\u001b[0;31m                 \u001b[0mouts\u001b[0m \u001b[0;34m=\u001b[0m \u001b[0mf\u001b[0m\u001b[0;34m(\u001b[0m\u001b[0mins_batch\u001b[0m\u001b[0;34m)\u001b[0m\u001b[0;34m\u001b[0m\u001b[0m\n\u001b[0m\u001b[1;32m    200\u001b[0m                 \u001b[0mouts\u001b[0m \u001b[0;34m=\u001b[0m \u001b[0mto_list\u001b[0m\u001b[0;34m(\u001b[0m\u001b[0mouts\u001b[0m\u001b[0;34m)\u001b[0m\u001b[0;34m\u001b[0m\u001b[0m\n\u001b[1;32m    201\u001b[0m                 \u001b[0;32mfor\u001b[0m \u001b[0ml\u001b[0m\u001b[0;34m,\u001b[0m \u001b[0mo\u001b[0m \u001b[0;32min\u001b[0m \u001b[0mzip\u001b[0m\u001b[0;34m(\u001b[0m\u001b[0mout_labels\u001b[0m\u001b[0;34m,\u001b[0m \u001b[0mouts\u001b[0m\u001b[0;34m)\u001b[0m\u001b[0;34m:\u001b[0m\u001b[0;34m\u001b[0m\u001b[0m\n",
      "\u001b[0;32m~/anaconda3/envs/NTHU_DataMining/lib/python3.6/site-packages/keras/backend/tensorflow_backend.py\u001b[0m in \u001b[0;36m__call__\u001b[0;34m(self, inputs)\u001b[0m\n\u001b[1;32m   2719\u001b[0m                     \u001b[0;34m'In order to feed symbolic tensors to a Keras model '\u001b[0m\u001b[0;34m\u001b[0m\u001b[0m\n\u001b[1;32m   2720\u001b[0m                     'in TensorFlow, you need tensorflow 1.8 or higher.')\n\u001b[0;32m-> 2721\u001b[0;31m             \u001b[0;32mreturn\u001b[0m \u001b[0mself\u001b[0m\u001b[0;34m.\u001b[0m\u001b[0m_legacy_call\u001b[0m\u001b[0;34m(\u001b[0m\u001b[0minputs\u001b[0m\u001b[0;34m)\u001b[0m\u001b[0;34m\u001b[0m\u001b[0m\n\u001b[0m\u001b[1;32m   2722\u001b[0m \u001b[0;34m\u001b[0m\u001b[0m\n\u001b[1;32m   2723\u001b[0m \u001b[0;34m\u001b[0m\u001b[0m\n",
      "\u001b[0;32m~/anaconda3/envs/NTHU_DataMining/lib/python3.6/site-packages/keras/backend/tensorflow_backend.py\u001b[0m in \u001b[0;36m_legacy_call\u001b[0;34m(self, inputs)\u001b[0m\n\u001b[1;32m   2691\u001b[0m         \u001b[0msession\u001b[0m \u001b[0;34m=\u001b[0m \u001b[0mget_session\u001b[0m\u001b[0;34m(\u001b[0m\u001b[0;34m)\u001b[0m\u001b[0;34m\u001b[0m\u001b[0m\n\u001b[1;32m   2692\u001b[0m         updated = session.run(fetches=fetches, feed_dict=feed_dict,\n\u001b[0;32m-> 2693\u001b[0;31m                               **self.session_kwargs)\n\u001b[0m\u001b[1;32m   2694\u001b[0m         \u001b[0;32mreturn\u001b[0m \u001b[0mupdated\u001b[0m\u001b[0;34m[\u001b[0m\u001b[0;34m:\u001b[0m\u001b[0mlen\u001b[0m\u001b[0;34m(\u001b[0m\u001b[0mself\u001b[0m\u001b[0;34m.\u001b[0m\u001b[0moutputs\u001b[0m\u001b[0;34m)\u001b[0m\u001b[0;34m]\u001b[0m\u001b[0;34m\u001b[0m\u001b[0m\n\u001b[1;32m   2695\u001b[0m \u001b[0;34m\u001b[0m\u001b[0m\n",
      "\u001b[0;32m~/anaconda3/envs/NTHU_DataMining/lib/python3.6/site-packages/tensorflow/python/client/session.py\u001b[0m in \u001b[0;36mrun\u001b[0;34m(self, fetches, feed_dict, options, run_metadata)\u001b[0m\n\u001b[1;32m    893\u001b[0m     \u001b[0;32mtry\u001b[0m\u001b[0;34m:\u001b[0m\u001b[0;34m\u001b[0m\u001b[0m\n\u001b[1;32m    894\u001b[0m       result = self._run(None, fetches, feed_dict, options_ptr,\n\u001b[0;32m--> 895\u001b[0;31m                          run_metadata_ptr)\n\u001b[0m\u001b[1;32m    896\u001b[0m       \u001b[0;32mif\u001b[0m \u001b[0mrun_metadata\u001b[0m\u001b[0;34m:\u001b[0m\u001b[0;34m\u001b[0m\u001b[0m\n\u001b[1;32m    897\u001b[0m         \u001b[0mproto_data\u001b[0m \u001b[0;34m=\u001b[0m \u001b[0mtf_session\u001b[0m\u001b[0;34m.\u001b[0m\u001b[0mTF_GetBuffer\u001b[0m\u001b[0;34m(\u001b[0m\u001b[0mrun_metadata_ptr\u001b[0m\u001b[0;34m)\u001b[0m\u001b[0;34m\u001b[0m\u001b[0m\n",
      "\u001b[0;32m~/anaconda3/envs/NTHU_DataMining/lib/python3.6/site-packages/tensorflow/python/client/session.py\u001b[0m in \u001b[0;36m_run\u001b[0;34m(self, handle, fetches, feed_dict, options, run_metadata)\u001b[0m\n\u001b[1;32m   1126\u001b[0m     \u001b[0;32mif\u001b[0m \u001b[0mfinal_fetches\u001b[0m \u001b[0;32mor\u001b[0m \u001b[0mfinal_targets\u001b[0m \u001b[0;32mor\u001b[0m \u001b[0;34m(\u001b[0m\u001b[0mhandle\u001b[0m \u001b[0;32mand\u001b[0m \u001b[0mfeed_dict_tensor\u001b[0m\u001b[0;34m)\u001b[0m\u001b[0;34m:\u001b[0m\u001b[0;34m\u001b[0m\u001b[0m\n\u001b[1;32m   1127\u001b[0m       results = self._do_run(handle, final_targets, final_fetches,\n\u001b[0;32m-> 1128\u001b[0;31m                              feed_dict_tensor, options, run_metadata)\n\u001b[0m\u001b[1;32m   1129\u001b[0m     \u001b[0;32melse\u001b[0m\u001b[0;34m:\u001b[0m\u001b[0;34m\u001b[0m\u001b[0m\n\u001b[1;32m   1130\u001b[0m       \u001b[0mresults\u001b[0m \u001b[0;34m=\u001b[0m \u001b[0;34m[\u001b[0m\u001b[0;34m]\u001b[0m\u001b[0;34m\u001b[0m\u001b[0m\n",
      "\u001b[0;32m~/anaconda3/envs/NTHU_DataMining/lib/python3.6/site-packages/tensorflow/python/client/session.py\u001b[0m in \u001b[0;36m_do_run\u001b[0;34m(self, handle, target_list, fetch_list, feed_dict, options, run_metadata)\u001b[0m\n\u001b[1;32m   1342\u001b[0m     \u001b[0;32mif\u001b[0m \u001b[0mhandle\u001b[0m \u001b[0;32mis\u001b[0m \u001b[0;32mNone\u001b[0m\u001b[0;34m:\u001b[0m\u001b[0;34m\u001b[0m\u001b[0m\n\u001b[1;32m   1343\u001b[0m       return self._do_call(_run_fn, self._session, feeds, fetches, targets,\n\u001b[0;32m-> 1344\u001b[0;31m                            options, run_metadata)\n\u001b[0m\u001b[1;32m   1345\u001b[0m     \u001b[0;32melse\u001b[0m\u001b[0;34m:\u001b[0m\u001b[0;34m\u001b[0m\u001b[0m\n\u001b[1;32m   1346\u001b[0m       \u001b[0;32mreturn\u001b[0m \u001b[0mself\u001b[0m\u001b[0;34m.\u001b[0m\u001b[0m_do_call\u001b[0m\u001b[0;34m(\u001b[0m\u001b[0m_prun_fn\u001b[0m\u001b[0;34m,\u001b[0m \u001b[0mself\u001b[0m\u001b[0;34m.\u001b[0m\u001b[0m_session\u001b[0m\u001b[0;34m,\u001b[0m \u001b[0mhandle\u001b[0m\u001b[0;34m,\u001b[0m \u001b[0mfeeds\u001b[0m\u001b[0;34m,\u001b[0m \u001b[0mfetches\u001b[0m\u001b[0;34m)\u001b[0m\u001b[0;34m\u001b[0m\u001b[0m\n",
      "\u001b[0;32m~/anaconda3/envs/NTHU_DataMining/lib/python3.6/site-packages/tensorflow/python/client/session.py\u001b[0m in \u001b[0;36m_do_call\u001b[0;34m(self, fn, *args)\u001b[0m\n\u001b[1;32m   1348\u001b[0m   \u001b[0;32mdef\u001b[0m \u001b[0m_do_call\u001b[0m\u001b[0;34m(\u001b[0m\u001b[0mself\u001b[0m\u001b[0;34m,\u001b[0m \u001b[0mfn\u001b[0m\u001b[0;34m,\u001b[0m \u001b[0;34m*\u001b[0m\u001b[0margs\u001b[0m\u001b[0;34m)\u001b[0m\u001b[0;34m:\u001b[0m\u001b[0;34m\u001b[0m\u001b[0m\n\u001b[1;32m   1349\u001b[0m     \u001b[0;32mtry\u001b[0m\u001b[0;34m:\u001b[0m\u001b[0;34m\u001b[0m\u001b[0m\n\u001b[0;32m-> 1350\u001b[0;31m       \u001b[0;32mreturn\u001b[0m \u001b[0mfn\u001b[0m\u001b[0;34m(\u001b[0m\u001b[0;34m*\u001b[0m\u001b[0margs\u001b[0m\u001b[0;34m)\u001b[0m\u001b[0;34m\u001b[0m\u001b[0m\n\u001b[0m\u001b[1;32m   1351\u001b[0m     \u001b[0;32mexcept\u001b[0m \u001b[0merrors\u001b[0m\u001b[0;34m.\u001b[0m\u001b[0mOpError\u001b[0m \u001b[0;32mas\u001b[0m \u001b[0me\u001b[0m\u001b[0;34m:\u001b[0m\u001b[0;34m\u001b[0m\u001b[0m\n\u001b[1;32m   1352\u001b[0m       \u001b[0mmessage\u001b[0m \u001b[0;34m=\u001b[0m \u001b[0mcompat\u001b[0m\u001b[0;34m.\u001b[0m\u001b[0mas_text\u001b[0m\u001b[0;34m(\u001b[0m\u001b[0me\u001b[0m\u001b[0;34m.\u001b[0m\u001b[0mmessage\u001b[0m\u001b[0;34m)\u001b[0m\u001b[0;34m\u001b[0m\u001b[0m\n",
      "\u001b[0;32m~/anaconda3/envs/NTHU_DataMining/lib/python3.6/site-packages/tensorflow/python/client/session.py\u001b[0m in \u001b[0;36m_run_fn\u001b[0;34m(session, feed_dict, fetch_list, target_list, options, run_metadata)\u001b[0m\n\u001b[1;32m   1327\u001b[0m           return tf_session.TF_Run(session, options,\n\u001b[1;32m   1328\u001b[0m                                    \u001b[0mfeed_dict\u001b[0m\u001b[0;34m,\u001b[0m \u001b[0mfetch_list\u001b[0m\u001b[0;34m,\u001b[0m \u001b[0mtarget_list\u001b[0m\u001b[0;34m,\u001b[0m\u001b[0;34m\u001b[0m\u001b[0m\n\u001b[0;32m-> 1329\u001b[0;31m                                    status, run_metadata)\n\u001b[0m\u001b[1;32m   1330\u001b[0m \u001b[0;34m\u001b[0m\u001b[0m\n\u001b[1;32m   1331\u001b[0m     \u001b[0;32mdef\u001b[0m \u001b[0m_prun_fn\u001b[0m\u001b[0;34m(\u001b[0m\u001b[0msession\u001b[0m\u001b[0;34m,\u001b[0m \u001b[0mhandle\u001b[0m\u001b[0;34m,\u001b[0m \u001b[0mfeed_dict\u001b[0m\u001b[0;34m,\u001b[0m \u001b[0mfetch_list\u001b[0m\u001b[0;34m)\u001b[0m\u001b[0;34m:\u001b[0m\u001b[0;34m\u001b[0m\u001b[0m\n",
      "\u001b[0;31mKeyboardInterrupt\u001b[0m: "
     ]
    }
   ],
   "source": [
    "epochs = 3\n",
    "batch_size = 128\n",
    "history = model.fit(wordEmbedding_w2v_X_train, le_wordEmbedding_w2v_y_train, epochs=epochs, batch_size=batch_size,\n",
    "                    validation_data = (wordEmbedding_w2v_X_test, le_wordEmbedding_w2v_y_test))"
   ]
  },
  {
   "cell_type": "code",
   "execution_count": 53,
   "metadata": {},
   "outputs": [
    {
     "name": "stdout",
     "output_type": "stream",
     "text": [
      "              precision    recall  f1-score   support\n",
      "\n",
      "       anger       0.58      0.23      0.33      8003\n",
      "anticipation       0.63      0.56      0.59     49901\n",
      "     disgust       0.42      0.46      0.44     27449\n",
      "        fear       0.74      0.36      0.48     12844\n",
      "         joy       0.55      0.82      0.66    103127\n",
      "     sadness       0.51      0.47      0.49     38638\n",
      "    surprise       0.76      0.17      0.28      9816\n",
      "       trust       0.66      0.25      0.36     41335\n",
      "\n",
      "   micro avg       0.56      0.56      0.56    291113\n",
      "   macro avg       0.61      0.41      0.45    291113\n",
      "weighted avg       0.58      0.56      0.53    291113\n",
      "\n"
     ]
    }
   ],
   "source": [
    "## precision, recall, f1-score,\n",
    "from sklearn.metrics import classification_report\n",
    "\n",
    "y_pred_result = model.predict(x = wordEmbedding_w2v_X_test, batch_size=128)\n",
    "y_pred_result = label_decode(label_encoder, y_pred_result)\n",
    "print(classification_report(y_true=wordEmbedding_w2v_y_test, y_pred=y_pred_result))"
   ]
  },
  {
   "cell_type": "code",
   "execution_count": null,
   "metadata": {},
   "outputs": [],
   "source": []
  }
 ],
 "metadata": {
  "kernelspec": {
   "display_name": "NTHU_DataMining",
   "language": "python",
   "name": "nthu_datamining"
  },
  "language_info": {
   "codemirror_mode": {
    "name": "ipython",
    "version": 3
   },
   "file_extension": ".py",
   "mimetype": "text/x-python",
   "name": "python",
   "nbconvert_exporter": "python",
   "pygments_lexer": "ipython3",
   "version": "3.6.6"
  }
 },
 "nbformat": 4,
 "nbformat_minor": 2
}
